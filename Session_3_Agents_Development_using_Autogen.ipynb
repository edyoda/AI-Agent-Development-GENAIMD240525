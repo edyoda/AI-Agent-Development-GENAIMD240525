{
  "nbformat": 4,
  "nbformat_minor": 0,
  "metadata": {
    "colab": {
      "provenance": [],
      "authorship_tag": "ABX9TyOGjkNjfpQh2yPsp9R1uvMG",
      "include_colab_link": true
    },
    "kernelspec": {
      "name": "python3",
      "display_name": "Python 3"
    },
    "language_info": {
      "name": "python"
    }
  },
  "cells": [
    {
      "cell_type": "markdown",
      "metadata": {
        "id": "view-in-github",
        "colab_type": "text"
      },
      "source": [
        "<a href=\"https://colab.research.google.com/github/edyoda/AI-Agent-Development-GENAIMD240525/blob/main/Session_3_Agents_Development_using_Autogen.ipynb\" target=\"_parent\"><img src=\"https://colab.research.google.com/assets/colab-badge.svg\" alt=\"Open In Colab\"/></a>"
      ]
    },
    {
      "cell_type": "markdown",
      "source": [
        "# AutoGen Imports"
      ],
      "metadata": {
        "id": "kocSJsqZy_c0"
      }
    },
    {
      "cell_type": "code",
      "execution_count": 1,
      "metadata": {
        "colab": {
          "base_uri": "https://localhost:8080/",
          "height": 1000
        },
        "id": "V398uQfAS7x-",
        "outputId": "1331dd19-a59d-455c-8aac-0d0ad9b46fa5"
      },
      "outputs": [
        {
          "output_type": "stream",
          "name": "stdout",
          "text": [
            "Collecting autogen-agentchat\n",
            "  Downloading autogen_agentchat-0.5.7-py3-none-any.whl.metadata (2.5 kB)\n",
            "Collecting autogen-ext[azure,openai]\n",
            "  Downloading autogen_ext-0.5.7-py3-none-any.whl.metadata (7.0 kB)\n",
            "Collecting autogen-core==0.5.7 (from autogen-agentchat)\n",
            "  Downloading autogen_core-0.5.7-py3-none-any.whl.metadata (2.3 kB)\n",
            "Collecting jsonref~=1.1.0 (from autogen-core==0.5.7->autogen-agentchat)\n",
            "  Downloading jsonref-1.1.0-py3-none-any.whl.metadata (2.7 kB)\n",
            "Collecting opentelemetry-api>=1.27.0 (from autogen-core==0.5.7->autogen-agentchat)\n",
            "  Downloading opentelemetry_api-1.33.1-py3-none-any.whl.metadata (1.6 kB)\n",
            "Requirement already satisfied: pillow>=11.0.0 in /usr/local/lib/python3.11/dist-packages (from autogen-core==0.5.7->autogen-agentchat) (11.2.1)\n",
            "Requirement already satisfied: protobuf~=5.29.3 in /usr/local/lib/python3.11/dist-packages (from autogen-core==0.5.7->autogen-agentchat) (5.29.4)\n",
            "Requirement already satisfied: pydantic<3.0.0,>=2.10.0 in /usr/local/lib/python3.11/dist-packages (from autogen-core==0.5.7->autogen-agentchat) (2.11.4)\n",
            "Requirement already satisfied: typing-extensions>=4.0.0 in /usr/local/lib/python3.11/dist-packages (from autogen-core==0.5.7->autogen-agentchat) (4.13.2)\n",
            "Collecting azure-ai-inference>=1.0.0b7 (from autogen-ext[azure,openai])\n",
            "  Downloading azure_ai_inference-1.0.0b9-py3-none-any.whl.metadata (34 kB)\n",
            "Collecting azure-ai-projects>=1.0.0b8 (from autogen-ext[azure,openai])\n",
            "  Downloading azure_ai_projects-1.0.0b11-py3-none-any.whl.metadata (23 kB)\n",
            "Collecting azure-core (from autogen-ext[azure,openai])\n",
            "  Downloading azure_core-1.34.0-py3-none-any.whl.metadata (42 kB)\n",
            "\u001b[2K     \u001b[90m━━━━━━━━━━━━━━━━━━━━━━━━━━━━━━━━━━━━━━━━\u001b[0m \u001b[32m42.9/42.9 kB\u001b[0m \u001b[31m2.0 MB/s\u001b[0m eta \u001b[36m0:00:00\u001b[0m\n",
            "\u001b[?25hCollecting azure-identity (from autogen-ext[azure,openai])\n",
            "  Downloading azure_identity-1.23.0-py3-none-any.whl.metadata (81 kB)\n",
            "\u001b[2K     \u001b[90m━━━━━━━━━━━━━━━━━━━━━━━━━━━━━━━━━━━━━━━━\u001b[0m \u001b[32m81.9/81.9 kB\u001b[0m \u001b[31m3.7 MB/s\u001b[0m eta \u001b[36m0:00:00\u001b[0m\n",
            "\u001b[?25hCollecting azure-search-documents>=11.4.0 (from autogen-ext[azure,openai])\n",
            "  Downloading azure_search_documents-11.5.2-py3-none-any.whl.metadata (23 kB)\n",
            "Collecting aiofiles (from autogen-ext[azure,openai])\n",
            "  Downloading aiofiles-24.1.0-py3-none-any.whl.metadata (10 kB)\n",
            "Requirement already satisfied: openai>=1.66.5 in /usr/local/lib/python3.11/dist-packages (from autogen-ext[azure,openai]) (1.81.0)\n",
            "Requirement already satisfied: tiktoken>=0.8.0 in /usr/local/lib/python3.11/dist-packages (from autogen-ext[azure,openai]) (0.9.0)\n",
            "Collecting isodate>=0.6.1 (from azure-ai-inference>=1.0.0b7->autogen-ext[azure,openai])\n",
            "  Downloading isodate-0.7.2-py3-none-any.whl.metadata (11 kB)\n",
            "Collecting azure-storage-blob>=12.15.0 (from azure-ai-projects>=1.0.0b8->autogen-ext[azure,openai])\n",
            "  Downloading azure_storage_blob-12.25.1-py3-none-any.whl.metadata (26 kB)\n",
            "Collecting azure-ai-agents>=1.0.0b1 (from azure-ai-projects>=1.0.0b8->autogen-ext[azure,openai])\n",
            "  Downloading azure_ai_agents-1.1.0b1-py3-none-any.whl.metadata (53 kB)\n",
            "\u001b[2K     \u001b[90m━━━━━━━━━━━━━━━━━━━━━━━━━━━━━━━━━━━━━━━━\u001b[0m \u001b[32m53.0/53.0 kB\u001b[0m \u001b[31m2.9 MB/s\u001b[0m eta \u001b[36m0:00:00\u001b[0m\n",
            "\u001b[?25hRequirement already satisfied: requests>=2.21.0 in /usr/local/lib/python3.11/dist-packages (from azure-core->autogen-ext[azure,openai]) (2.32.3)\n",
            "Requirement already satisfied: six>=1.11.0 in /usr/local/lib/python3.11/dist-packages (from azure-core->autogen-ext[azure,openai]) (1.17.0)\n",
            "Collecting azure-common>=1.1 (from azure-search-documents>=11.4.0->autogen-ext[azure,openai])\n",
            "  Downloading azure_common-1.1.28-py2.py3-none-any.whl.metadata (5.0 kB)\n",
            "Requirement already satisfied: anyio<5,>=3.5.0 in /usr/local/lib/python3.11/dist-packages (from openai>=1.66.5->autogen-ext[azure,openai]) (4.9.0)\n",
            "Requirement already satisfied: distro<2,>=1.7.0 in /usr/local/lib/python3.11/dist-packages (from openai>=1.66.5->autogen-ext[azure,openai]) (1.9.0)\n",
            "Requirement already satisfied: httpx<1,>=0.23.0 in /usr/local/lib/python3.11/dist-packages (from openai>=1.66.5->autogen-ext[azure,openai]) (0.28.1)\n",
            "Requirement already satisfied: jiter<1,>=0.4.0 in /usr/local/lib/python3.11/dist-packages (from openai>=1.66.5->autogen-ext[azure,openai]) (0.10.0)\n",
            "Requirement already satisfied: sniffio in /usr/local/lib/python3.11/dist-packages (from openai>=1.66.5->autogen-ext[azure,openai]) (1.3.1)\n",
            "Requirement already satisfied: tqdm>4 in /usr/local/lib/python3.11/dist-packages (from openai>=1.66.5->autogen-ext[azure,openai]) (4.67.1)\n",
            "Requirement already satisfied: regex>=2022.1.18 in /usr/local/lib/python3.11/dist-packages (from tiktoken>=0.8.0->autogen-ext[azure,openai]) (2024.11.6)\n",
            "Requirement already satisfied: cryptography>=2.5 in /usr/local/lib/python3.11/dist-packages (from azure-identity->autogen-ext[azure,openai]) (43.0.3)\n",
            "Collecting msal>=1.30.0 (from azure-identity->autogen-ext[azure,openai])\n",
            "  Downloading msal-1.32.3-py3-none-any.whl.metadata (11 kB)\n",
            "Collecting msal-extensions>=1.2.0 (from azure-identity->autogen-ext[azure,openai])\n",
            "  Downloading msal_extensions-1.3.1-py3-none-any.whl.metadata (7.8 kB)\n",
            "Requirement already satisfied: idna>=2.8 in /usr/local/lib/python3.11/dist-packages (from anyio<5,>=3.5.0->openai>=1.66.5->autogen-ext[azure,openai]) (3.10)\n",
            "Requirement already satisfied: cffi>=1.12 in /usr/local/lib/python3.11/dist-packages (from cryptography>=2.5->azure-identity->autogen-ext[azure,openai]) (1.17.1)\n",
            "Requirement already satisfied: certifi in /usr/local/lib/python3.11/dist-packages (from httpx<1,>=0.23.0->openai>=1.66.5->autogen-ext[azure,openai]) (2025.4.26)\n",
            "Requirement already satisfied: httpcore==1.* in /usr/local/lib/python3.11/dist-packages (from httpx<1,>=0.23.0->openai>=1.66.5->autogen-ext[azure,openai]) (1.0.9)\n",
            "Requirement already satisfied: h11>=0.16 in /usr/local/lib/python3.11/dist-packages (from httpcore==1.*->httpx<1,>=0.23.0->openai>=1.66.5->autogen-ext[azure,openai]) (0.16.0)\n",
            "Requirement already satisfied: PyJWT<3,>=1.0.0 in /usr/local/lib/python3.11/dist-packages (from PyJWT[crypto]<3,>=1.0.0->msal>=1.30.0->azure-identity->autogen-ext[azure,openai]) (2.10.1)\n",
            "Collecting deprecated>=1.2.6 (from opentelemetry-api>=1.27.0->autogen-core==0.5.7->autogen-agentchat)\n",
            "  Downloading Deprecated-1.2.18-py2.py3-none-any.whl.metadata (5.7 kB)\n",
            "Collecting importlib-metadata<8.7.0,>=6.0 (from opentelemetry-api>=1.27.0->autogen-core==0.5.7->autogen-agentchat)\n",
            "  Downloading importlib_metadata-8.6.1-py3-none-any.whl.metadata (4.7 kB)\n",
            "Requirement already satisfied: annotated-types>=0.6.0 in /usr/local/lib/python3.11/dist-packages (from pydantic<3.0.0,>=2.10.0->autogen-core==0.5.7->autogen-agentchat) (0.7.0)\n",
            "Requirement already satisfied: pydantic-core==2.33.2 in /usr/local/lib/python3.11/dist-packages (from pydantic<3.0.0,>=2.10.0->autogen-core==0.5.7->autogen-agentchat) (2.33.2)\n",
            "Requirement already satisfied: typing-inspection>=0.4.0 in /usr/local/lib/python3.11/dist-packages (from pydantic<3.0.0,>=2.10.0->autogen-core==0.5.7->autogen-agentchat) (0.4.1)\n",
            "Requirement already satisfied: charset-normalizer<4,>=2 in /usr/local/lib/python3.11/dist-packages (from requests>=2.21.0->azure-core->autogen-ext[azure,openai]) (3.4.2)\n",
            "Requirement already satisfied: urllib3<3,>=1.21.1 in /usr/local/lib/python3.11/dist-packages (from requests>=2.21.0->azure-core->autogen-ext[azure,openai]) (2.4.0)\n",
            "Requirement already satisfied: pycparser in /usr/local/lib/python3.11/dist-packages (from cffi>=1.12->cryptography>=2.5->azure-identity->autogen-ext[azure,openai]) (2.22)\n",
            "Requirement already satisfied: wrapt<2,>=1.10 in /usr/local/lib/python3.11/dist-packages (from deprecated>=1.2.6->opentelemetry-api>=1.27.0->autogen-core==0.5.7->autogen-agentchat) (1.17.2)\n",
            "Requirement already satisfied: zipp>=3.20 in /usr/local/lib/python3.11/dist-packages (from importlib-metadata<8.7.0,>=6.0->opentelemetry-api>=1.27.0->autogen-core==0.5.7->autogen-agentchat) (3.21.0)\n",
            "Downloading autogen_agentchat-0.5.7-py3-none-any.whl (106 kB)\n",
            "\u001b[2K   \u001b[90m━━━━━━━━━━━━━━━━━━━━━━━━━━━━━━━━━━━━━━━━\u001b[0m \u001b[32m106.1/106.1 kB\u001b[0m \u001b[31m5.0 MB/s\u001b[0m eta \u001b[36m0:00:00\u001b[0m\n",
            "\u001b[?25hDownloading autogen_core-0.5.7-py3-none-any.whl (96 kB)\n",
            "\u001b[2K   \u001b[90m━━━━━━━━━━━━━━━━━━━━━━━━━━━━━━━━━━━━━━━━\u001b[0m \u001b[32m96.6/96.6 kB\u001b[0m \u001b[31m4.1 MB/s\u001b[0m eta \u001b[36m0:00:00\u001b[0m\n",
            "\u001b[?25hDownloading azure_ai_inference-1.0.0b9-py3-none-any.whl (124 kB)\n",
            "\u001b[2K   \u001b[90m━━━━━━━━━━━━━━━━━━━━━━━━━━━━━━━━━━━━━━━━\u001b[0m \u001b[32m124.9/124.9 kB\u001b[0m \u001b[31m7.4 MB/s\u001b[0m eta \u001b[36m0:00:00\u001b[0m\n",
            "\u001b[?25hDownloading azure_ai_projects-1.0.0b11-py3-none-any.whl (130 kB)\n",
            "\u001b[2K   \u001b[90m━━━━━━━━━━━━━━━━━━━━━━━━━━━━━━━━━━━━━━━━\u001b[0m \u001b[32m131.0/131.0 kB\u001b[0m \u001b[31m5.9 MB/s\u001b[0m eta \u001b[36m0:00:00\u001b[0m\n",
            "\u001b[?25hDownloading azure_core-1.34.0-py3-none-any.whl (207 kB)\n",
            "\u001b[2K   \u001b[90m━━━━━━━━━━━━━━━━━━━━━━━━━━━━━━━━━━━━━━━━\u001b[0m \u001b[32m207.4/207.4 kB\u001b[0m \u001b[31m8.9 MB/s\u001b[0m eta \u001b[36m0:00:00\u001b[0m\n",
            "\u001b[?25hDownloading azure_search_documents-11.5.2-py3-none-any.whl (298 kB)\n",
            "\u001b[2K   \u001b[90m━━━━━━━━━━━━━━━━━━━━━━━━━━━━━━━━━━━━━━━━\u001b[0m \u001b[32m298.8/298.8 kB\u001b[0m \u001b[31m6.6 MB/s\u001b[0m eta \u001b[36m0:00:00\u001b[0m\n",
            "\u001b[?25hDownloading aiofiles-24.1.0-py3-none-any.whl (15 kB)\n",
            "Downloading autogen_ext-0.5.7-py3-none-any.whl (296 kB)\n",
            "\u001b[2K   \u001b[90m━━━━━━━━━━━━━━━━━━━━━━━━━━━━━━━━━━━━━━━━\u001b[0m \u001b[32m296.9/296.9 kB\u001b[0m \u001b[31m6.8 MB/s\u001b[0m eta \u001b[36m0:00:00\u001b[0m\n",
            "\u001b[?25hDownloading azure_identity-1.23.0-py3-none-any.whl (186 kB)\n",
            "\u001b[2K   \u001b[90m━━━━━━━━━━━━━━━━━━━━━━━━━━━━━━━━━━━━━━━━\u001b[0m \u001b[32m186.1/186.1 kB\u001b[0m \u001b[31m10.0 MB/s\u001b[0m eta \u001b[36m0:00:00\u001b[0m\n",
            "\u001b[?25hDownloading azure_ai_agents-1.1.0b1-py3-none-any.whl (189 kB)\n",
            "\u001b[2K   \u001b[90m━━━━━━━━━━━━━━━━━━━━━━━━━━━━━━━━━━━━━━━━\u001b[0m \u001b[32m189.4/189.4 kB\u001b[0m \u001b[31m12.0 MB/s\u001b[0m eta \u001b[36m0:00:00\u001b[0m\n",
            "\u001b[?25hDownloading azure_common-1.1.28-py2.py3-none-any.whl (14 kB)\n",
            "Downloading azure_storage_blob-12.25.1-py3-none-any.whl (406 kB)\n",
            "\u001b[2K   \u001b[90m━━━━━━━━━━━━━━━━━━━━━━━━━━━━━━━━━━━━━━━━\u001b[0m \u001b[32m407.0/407.0 kB\u001b[0m \u001b[31m12.3 MB/s\u001b[0m eta \u001b[36m0:00:00\u001b[0m\n",
            "\u001b[?25hDownloading isodate-0.7.2-py3-none-any.whl (22 kB)\n",
            "Downloading jsonref-1.1.0-py3-none-any.whl (9.4 kB)\n",
            "Downloading msal-1.32.3-py3-none-any.whl (115 kB)\n",
            "\u001b[2K   \u001b[90m━━━━━━━━━━━━━━━━━━━━━━━━━━━━━━━━━━━━━━━━\u001b[0m \u001b[32m115.4/115.4 kB\u001b[0m \u001b[31m5.5 MB/s\u001b[0m eta \u001b[36m0:00:00\u001b[0m\n",
            "\u001b[?25hDownloading msal_extensions-1.3.1-py3-none-any.whl (20 kB)\n",
            "Downloading opentelemetry_api-1.33.1-py3-none-any.whl (65 kB)\n",
            "\u001b[2K   \u001b[90m━━━━━━━━━━━━━━━━━━━━━━━━━━━━━━━━━━━━━━━━\u001b[0m \u001b[32m65.8/65.8 kB\u001b[0m \u001b[31m3.5 MB/s\u001b[0m eta \u001b[36m0:00:00\u001b[0m\n",
            "\u001b[?25hDownloading Deprecated-1.2.18-py2.py3-none-any.whl (10.0 kB)\n",
            "Downloading importlib_metadata-8.6.1-py3-none-any.whl (26 kB)\n",
            "Installing collected packages: azure-common, jsonref, isodate, importlib-metadata, deprecated, aiofiles, opentelemetry-api, azure-core, azure-storage-blob, azure-search-documents, azure-ai-inference, azure-ai-agents, autogen-core, msal, azure-ai-projects, autogen-ext, autogen-agentchat, msal-extensions, azure-identity\n",
            "  Attempting uninstall: importlib-metadata\n",
            "    Found existing installation: importlib_metadata 8.7.0\n",
            "    Uninstalling importlib_metadata-8.7.0:\n",
            "      Successfully uninstalled importlib_metadata-8.7.0\n",
            "Successfully installed aiofiles-24.1.0 autogen-agentchat-0.5.7 autogen-core-0.5.7 autogen-ext-0.5.7 azure-ai-agents-1.1.0b1 azure-ai-inference-1.0.0b9 azure-ai-projects-1.0.0b11 azure-common-1.1.28 azure-core-1.34.0 azure-identity-1.23.0 azure-search-documents-11.5.2 azure-storage-blob-12.25.1 deprecated-1.2.18 importlib-metadata-8.6.1 isodate-0.7.2 jsonref-1.1.0 msal-1.32.3 msal-extensions-1.3.1 opentelemetry-api-1.33.1\n"
          ]
        },
        {
          "output_type": "display_data",
          "data": {
            "application/vnd.colab-display-data+json": {
              "pip_warning": {
                "packages": [
                  "importlib_metadata"
                ]
              },
              "id": "d2412cc366f64e65a8042443c49fc62b"
            }
          },
          "metadata": {}
        }
      ],
      "source": [
        "!pip install -U \"autogen-agentchat\" \"autogen-ext[openai,azure]\""
      ]
    },
    {
      "cell_type": "markdown",
      "source": [
        "# Model Integration with Autogen\n",
        "#"
      ],
      "metadata": {
        "id": "QoVI6MA-zFU7"
      }
    },
    {
      "cell_type": "code",
      "source": [
        "from autogen_agentchat.agents import AssistantAgent, UserProxyAgent\n",
        "from autogen_agentchat.ui import Console\n",
        "from autogen_ext.models.openai import OpenAIChatCompletionClient\n",
        "\n",
        "from google.colab import userdata\n",
        "\n",
        "# Define a model client. You can use other model client that implements\n",
        "# the `ChatCompletionClient` interface.\n",
        "oai_model_client = OpenAIChatCompletionClient(\n",
        "    model=\"gpt-4o\",\n",
        "    api_key=userdata.get(\"OPENAI_API_KEY\"),\n",
        ")\n",
        "\n",
        "model_client = OpenAIChatCompletionClient(\n",
        "        model=\"deepseek-chat\",\n",
        "        temperature=0.85,\n",
        "        api_key=userdata.get('DEEPSEEK_API_KEY'),\n",
        "        base_url=\"https://api.deepseek.com/v1\",\n",
        "        model_info={\n",
        "            \"model_name\": \"deepseek-chat\",\n",
        "            \"api_type\": \"openai\",\n",
        "            \"vendor\": \"deepseek\",\n",
        "            \"json_output\": False,\n",
        "            \"vision\": False,\n",
        "            \"function_calling\": True,\n",
        "            \"function_call\": False,\n",
        "            \"streaming\": True,\n",
        "            \"cost_per_token\": 0,\n",
        "            \"family\": \"deepseek\",\n",
        "        }\n",
        "    )\n",
        "\n",
        "\n",
        "# Define an AssistantAgent with the model, tool, system message, and reflection enabled.\n",
        "# The system message instructs the agent via natural language.\n",
        "agent = AssistantAgent(\n",
        "    name=\"travel_planner_agent\",\n",
        "    model_client= model_client,\n",
        "    #tools=[get_weather],\n",
        "    system_message=\"You are a helpful travel planner assistant.\",\n",
        "    reflect_on_tool_use=True,\n",
        "    model_client_stream=True,  # Enable streaming tokens from the model client.\n",
        ")\n",
        "\n",
        "\n",
        "# Run the agent and stream the messages to the console.\n",
        "async def main() -> None:\n",
        "    await Console(agent.run_stream(task=\"How should I plan my trip to Tezpur from Bangalore?\"))\n",
        "    # Close the connection to the model client.\n",
        "    await model_client.close()\n",
        "\n",
        "\n",
        "# NOTE: if running this inside a Python script you'll need to use asyncio.run(main()).\n",
        "await main()"
      ],
      "metadata": {
        "colab": {
          "base_uri": "https://localhost:8080/"
        },
        "id": "pRSy5ohDUF-0",
        "outputId": "1d53a345-7e01-4414-a887-c136e2783ff1"
      },
      "execution_count": 3,
      "outputs": [
        {
          "output_type": "stream",
          "name": "stdout",
          "text": [
            "---------- TextMessage (user) ----------\n",
            "How should I plan my trip to Tezpur from Bangalore?\n",
            "---------- ModelClientStreamingChunkEvent (weather_agent) ----------\n",
            "Planning a trip from **Bangalore to Tezpur** involves multiple travel options, including flights, trains, and road routes. Here’s a step-by-step guide to help you organize your trip:\n",
            "\n",
            "### **1. By Flight (Fastest Option)**\n",
            "- **Bangalore (BLR) → Guwahati (GAU)**  \n",
            "  - Several airlines (IndiGo, Air India, SpiceJet) operate daily flights (1-stop or direct).  \n",
            "  - **Duration:** ~3 to 5 hours (depending on layover).  \n",
            "  - **Cost:** ₹4,000 – ₹10,000 (varies by season).  \n",
            "\n",
            "- **Guwahati → Tezpur (By Road, ~180 km, 4-5 hrs)**  \n",
            "  - Hire a **taxi** (₹3,000–₹4,500) or take a **bus** (ASTC/private, ₹300–₹600).  \n",
            "  - **Train option:** Few trains run from Guwahati to Tezpur (check IRCTC).  \n",
            "\n",
            "#### **Alternative Flight Route (Less Common)**  \n",
            "- **Bangalore → Salonibari Airport (TEZ, Tezpur)**  \n",
            "  - Limited flights (usually via Kolkata/Guwahati).  \n",
            "  - Check **Alliance Air** or other regional carriers.  \n",
            "\n",
            "### **2. By Train (Budget-Friendly but Longer)**\n",
            "- **Bangalore (SBC/Yesvantpur) → Guwahati (GHY)**  \n",
            "  - Popular trains:  \n",
            "    - **12509/12510 Guwahati Express** (~38–40 hrs)  \n",
            "    - **12514 SBC-GHY SF Express** (~36 hrs)  \n",
            "  - **Fare:** ₹1,500 (SL) – ₹4,000 (3A/2A).  \n",
            "\n",
            "- **Guwahati → Tezpur**  \n",
            "  - Take a **taxi/bus** (as mentioned above) or a local train.  \n",
            "\n",
            "### **3. By Road (Adventurous but Time-Consuming)**\n",
            "- **Bangalore → Tezpur (~2,800 km, ~50+ hrs drive)**  \n",
            "  - Route: **Bangalore → Hyderabad → Nagpur → Kolkata → Guwahati → Tezpur**  \n",
            "  - Best for **road trips** (self-drive or hired cab).  \n",
            "  - **Bus options:** No direct buses; break journey via Guwahati.  \n",
            "\n",
            "### **Best Itinerary Suggestion**  \n",
            "#### **Option 1 (Fastest)**\n",
            "- **Day 1:** Fly **Bangalore → Guwahati** (morning flight).  \n",
            "- **Day 1:** Take a **taxi/bus to Tezpur** (reach by evening).  \n",
            "\n",
            "#### **Option 2 (Budget)**\n",
            "- **Day 1:** Board **train from Bangalore to Guwahati** (overnight).  \n",
            "- **Day 2-3:** Reach Guwahati, then take a **bus/taxi to Tezpur**.  \n",
            "\n",
            "### **Things to Keep in Mind**  \n",
            "- **Best time to visit:** October–March (pleasant weather).  \n",
            "- **Permits:** If visiting Arunachal Pradesh (e.g., Bhalukpong), obtain **ILP** (Inner Line Permit).  \n",
            "- **Local transport in Tezpur:** Auto-rickshaws, taxis, and bikes for rent.  \n",
            "\n",
            "Would you like recommendations for hotels or sightseeing in Tezpur? Let me know how I can refine this plan further!\n"
          ]
        }
      ]
    },
    {
      "cell_type": "code",
      "source": [
        "from autogen_core.models import UserMessage\n",
        "from google.colab import userdata\n",
        "\n",
        "model_client = OpenAIChatCompletionClient(\n",
        "    model=\"gpt-4o\",\n",
        "    api_key=userdata.get(\"OPENAI_API_KEY\"),\n",
        ")\n",
        "\n",
        "result = await model_client.create([UserMessage(content=\"What is the capital of France?\", source=\"user\")])\n",
        "print(result)\n",
        "await model_client.close()"
      ],
      "metadata": {
        "colab": {
          "base_uri": "https://localhost:8080/"
        },
        "id": "U9Ayu0spURDn",
        "outputId": "c0716cdd-387b-4681-b688-6f95b0a90b2c"
      },
      "execution_count": 4,
      "outputs": [
        {
          "output_type": "stream",
          "name": "stdout",
          "text": [
            "finish_reason='stop' content='The capital of France is Paris.' usage=RequestUsage(prompt_tokens=15, completion_tokens=7) cached=False logprobs=None thought=None\n"
          ]
        }
      ]
    },
    {
      "cell_type": "code",
      "source": [
        "model_client = OpenAIChatCompletionClient(\n",
        "        model=\"deepseek-chat\",\n",
        "        temperature=0.85,\n",
        "        api_key=userdata.get('DEEPSEEK_API_KEY'),\n",
        "        base_url=\"https://api.deepseek.com/v1\",\n",
        "        model_info={\n",
        "            \"model_name\": \"deepseek-chat\",\n",
        "            \"api_type\": \"openai\",\n",
        "            \"vendor\": \"deepseek\",\n",
        "            \"json_output\": False,\n",
        "            \"vision\": False,\n",
        "            \"function_calling\": True,\n",
        "            \"function_call\": False,\n",
        "            \"streaming\": True,\n",
        "            \"cost_per_token\": 0,\n",
        "            \"family\": \"deepseek\",\n",
        "        }\n",
        "    )\n"
      ],
      "metadata": {
        "id": "MSemuHmix1rq"
      },
      "execution_count": 6,
      "outputs": []
    },
    {
      "cell_type": "code",
      "source": [
        "from io import BytesIO\n",
        "\n",
        "import PIL\n",
        "import requests\n",
        "from autogen_agentchat.messages import MultiModalMessage\n",
        "from autogen_core import Image\n",
        "\n",
        "# Create a multi-modal message with random image and text.\n",
        "pil_image = PIL.Image.open(BytesIO(requests.get(\"https://picsum.photos/300/200\").content))\n",
        "img = Image(pil_image)\n",
        "multi_modal_message = MultiModalMessage(content=[\"Can you describe the content of this image?\", img], source=\"user\")\n",
        "img\n"
      ],
      "metadata": {
        "colab": {
          "base_uri": "https://localhost:8080/",
          "height": 221
        },
        "id": "RVTtbpGund5y",
        "outputId": "f3529137-b729-4f16-e428-932975f9e414"
      },
      "execution_count": 5,
      "outputs": [
        {
          "output_type": "execute_result",
          "data": {
            "text/plain": [
              "<autogen_core._image.Image at 0x7f023a4b8c90>"
            ],
            "text/html": [
              "<img src=\"data:image/png;base64,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\"/>"
            ]
          },
          "metadata": {},
          "execution_count": 5
        }
      ]
    },
    {
      "cell_type": "code",
      "source": [
        "# Use asyncio.run(...) when running in a script.\n",
        "result = await agent.run(task=multi_modal_message)\n",
        "print(result.messages[-1].content)  # type: ignore"
      ],
      "metadata": {
        "colab": {
          "base_uri": "https://localhost:8080/"
        },
        "id": "zT-rQTnlvxdK",
        "outputId": "66940688-f3fd-475e-8ae4-cf9895b840ef"
      },
      "execution_count": null,
      "outputs": [
        {
          "output_type": "stream",
          "name": "stdout",
          "text": [
            "The image shows a serene landscape with a calm body of water reflecting the sky and clouds above. There is a line of trees along the water's edge, and the scene appears to be at either dawn or dusk, given the lighting. The overall atmosphere is peaceful and quiet.\n"
          ]
        }
      ]
    },
    {
      "cell_type": "code",
      "source": [
        "import asyncio\n",
        "\n",
        "from autogen_agentchat.agents import AssistantAgent\n",
        "from autogen_agentchat.base import TaskResult\n",
        "from autogen_agentchat.conditions import ExternalTermination, TextMentionTermination\n",
        "from autogen_agentchat.teams import RoundRobinGroupChat\n",
        "from autogen_agentchat.ui import Console\n",
        "from autogen_core import CancellationToken\n",
        "from autogen_ext.models.openai import OpenAIChatCompletionClient\n",
        "\n",
        "\n",
        "\n",
        "# Create the primary agent.\n",
        "primary_agent = AssistantAgent(\n",
        "    \"primary\",\n",
        "    model_client=model_client,\n",
        "    system_message=\"You are a helpful AI assistant.\",\n",
        ")\n",
        "\n",
        "# Create the critic agent.\n",
        "critic_agent = AssistantAgent(\n",
        "    \"critic\",\n",
        "    model_client=model_client,\n",
        "    system_message=\"Provide constructive feedback. Respond with 'APPROVE' to when your feedbacks are addressed.\",\n",
        ")\n",
        "\n",
        "# Define a termination condition that stops the task if the critic approves.\n",
        "text_termination = TextMentionTermination(\"APPROVE\")\n",
        "\n",
        "# Create a team with the primary and critic agents.\n",
        "team = RoundRobinGroupChat([primary_agent, critic_agent], termination_condition=text_termination)\n"
      ],
      "metadata": {
        "id": "ovV9dt4m7eCk"
      },
      "execution_count": 9,
      "outputs": []
    },
    {
      "cell_type": "code",
      "source": [
        "result = await team.run(task=\"Write a short poem about the fall season.\")\n",
        "print(result)"
      ],
      "metadata": {
        "colab": {
          "base_uri": "https://localhost:8080/"
        },
        "id": "XpGUj3Po1med",
        "outputId": "fa411957-7bad-4321-e777-256f4d16d9ca"
      },
      "execution_count": 8,
      "outputs": [
        {
          "output_type": "stream",
          "name": "stdout",
          "text": [
            "messages=[TextMessage(source='user', models_usage=None, metadata={}, content='Write a short poem about the fall season.', type='TextMessage'), TextMessage(source='primary', models_usage=RequestUsage(prompt_tokens=19, completion_tokens=86), metadata={}, content='**Autumn’s Whisper**  \\n\\nThe leaves dance down in crimson gold,  \\nA fleeting blaze, a story told.  \\nThe air grows crisp, the light so mild,  \\nAs nature sighs and rests awhile.  \\n\\nThe pumpkins grin, the branches bare,  \\nA tang of spice upon the air.  \\nOh, fleeting fall, so bold, so brief—  \\nA golden joy, a bittersweet leaf.', type='TextMessage'), TextMessage(source='critic', models_usage=RequestUsage(prompt_tokens=117, completion_tokens=53), metadata={}, content='**APPROVE**  \\n\\nYour poem beautifully captures the essence of autumn with vivid imagery and a gentle, reflective tone. The rhythm flows smoothly, and the closing lines (\"A golden joy, a bittersweet leaf\") leave a poignant, memorable finish. Well done!', type='TextMessage')] stop_reason=\"Text 'APPROVE' mentioned\"\n"
          ]
        }
      ]
    },
    {
      "cell_type": "markdown",
      "source": [
        "# Observing teams"
      ],
      "metadata": {
        "id": "0wapb7eT5o5y"
      }
    },
    {
      "cell_type": "code",
      "source": [
        "await team.reset()  # Reset the team for a new task.\n",
        "async for message in team.run_stream(task=\"Write a short poem about the fall season.\"):  # type: ignore\n",
        "    if isinstance(message, TaskResult):\n",
        "        print(\"Stop Reason:\", message.stop_reason)\n",
        "    else:\n",
        "        print(message)"
      ],
      "metadata": {
        "colab": {
          "base_uri": "https://localhost:8080/"
        },
        "id": "WPkv63ur1rDb",
        "outputId": "d210fc6c-8868-431c-ae1c-44d552f1e32c"
      },
      "execution_count": 10,
      "outputs": [
        {
          "output_type": "stream",
          "name": "stdout",
          "text": [
            "source='user' models_usage=None metadata={} content='Write a short poem about the fall season.' type='TextMessage'\n",
            "source='primary' models_usage=RequestUsage(prompt_tokens=19, completion_tokens=86) metadata={} content=\"**Autumn's Whisper**  \\n\\nThe leaves dance down in crimson gold,  \\nA fleeting flame, a story told.  \\nThe air is crisp, the breeze sings low,  \\nAs summer fades with amber glow.  \\n\\nThe pumpkins grin, the branches bare,  \\nA whispered hush fills the chilled air.  \\nYet in this change, so bold, so bright,  \\nFall wraps the world in golden light.\" type='TextMessage'\n",
            "source='critic' models_usage=RequestUsage(prompt_tokens=117, completion_tokens=127) metadata={} content='**APPROVE**  \\n\\nYour poem beautifully captures the essence of autumn with vivid imagery and a soothing rhythm. The contrast between warmth (\"crimson gold,\" \"amber glow\") and the approaching chill (\"breeze sings low,\" \"branches bare\") creates a lovely balance. The closing lines tie everything together with a sense of quiet wonder. Well done!  \\n\\nIf you\\'d like any refinements, consider playing with line breaks or adding a touch of personification (e.g., \"the wind hums secrets\" instead of \"breeze sings low\"). But as is, it’s a charming ode to fall! 🌟' type='TextMessage'\n",
            "Stop Reason: Text 'APPROVE' mentioned\n"
          ]
        }
      ]
    },
    {
      "cell_type": "markdown",
      "source": [
        "# Providing Feedback During a Run"
      ],
      "metadata": {
        "id": "ilFYA9p6-5H2"
      }
    },
    {
      "cell_type": "code",
      "source": [
        "from autogen_agentchat.agents import AssistantAgent, UserProxyAgent\n",
        "from autogen_agentchat.conditions import TextMentionTermination\n",
        "from autogen_agentchat.teams import RoundRobinGroupChat\n",
        "from autogen_agentchat.ui import Console\n",
        "from autogen_ext.models.openai import OpenAIChatCompletionClient\n",
        "\n",
        "# Create the agents.\n",
        "model_client = OpenAIChatCompletionClient(\n",
        "    model=\"gpt-4o\",\n",
        "    api_key=userdata.get(\"OPENAI_API_KEY\"),\n",
        ")\n",
        "\n",
        "assistant = AssistantAgent(\"assistant\", model_client=model_client)\n",
        "user_proxy = UserProxyAgent(\"user_proxy\", input_func=input)  # Use input() to get user input from console.\n",
        "\n",
        "# Create the termination condition which will end the conversation when the user says \"APPROVE\".\n",
        "termination = TextMentionTermination(\"APPROVE\")\n",
        "\n",
        "# Create the team.\n",
        "team = RoundRobinGroupChat([assistant, user_proxy], termination_condition=termination)\n",
        "\n",
        "# Run the conversation and stream to the console.\n",
        "stream = team.run_stream(task=\"Write a 4-line poem about the ocean.\")\n",
        "# Use asyncio.run(...) when running in a script.\n",
        "await Console(stream)\n",
        "await model_client.close()\n"
      ],
      "metadata": {
        "colab": {
          "base_uri": "https://localhost:8080/"
        },
        "id": "r9b-cICB4cmi",
        "outputId": "fb1c9a5b-14cc-44b1-eef0-67205ecc6890"
      },
      "execution_count": 11,
      "outputs": [
        {
          "output_type": "stream",
          "name": "stdout",
          "text": [
            "---------- TextMessage (user) ----------\n",
            "Write a 4-line poem about the ocean.\n",
            "---------- TextMessage (assistant) ----------\n",
            "Blue waves whisper secrets to the shore,  \n",
            "Endless horizons where dreams take flight,  \n",
            "Moonlit dance on a vast ocean floor,  \n",
            "Nature's lullaby sung softly at night.  \n",
            "TERMINATE\n",
            "Enter your response: Use harry potter context\n",
            "---------- TextMessage (user_proxy) ----------\n",
            "Use harry potter context\n",
            "---------- TextMessage (assistant) ----------\n",
            "In Hogwarts' shadow, the waves gently sweep,  \n",
            "Mermaids sing tales of ancient, magic might,  \n",
            "Beneath the surface, secrets the ocean keeps,  \n",
            "In the dark, mysterious depths of night.  \n",
            "TERMINATE\n",
            "Enter your response: APPROVE\n",
            "---------- TextMessage (user_proxy) ----------\n",
            "APPROVE\n"
          ]
        }
      ]
    },
    {
      "cell_type": "markdown",
      "source": [
        "# Termination"
      ],
      "metadata": {
        "id": "Ln7ZS9RQBARP"
      }
    },
    {
      "cell_type": "code",
      "source": [
        "from autogen_agentchat.agents import AssistantAgent\n",
        "from autogen_agentchat.conditions import MaxMessageTermination, TextMentionTermination\n",
        "from autogen_agentchat.teams import RoundRobinGroupChat\n",
        "from autogen_agentchat.ui import Console\n",
        "from autogen_ext.models.openai import OpenAIChatCompletionClient\n",
        "\n",
        "# Create the agents.\n",
        "model_client = OpenAIChatCompletionClient(\n",
        "    model=\"gpt-4o\",\n",
        "    api_key=userdata.get(\"OPENAI_API_KEY\"),\n",
        ")\n",
        "\n",
        "# Create the primary agent.\n",
        "primary_agent = AssistantAgent(\n",
        "    \"primary\",\n",
        "    model_client=model_client,\n",
        "    system_message=\"You are a helpful AI assistant.\",\n",
        ")\n",
        "\n",
        "# Create the critic agent.\n",
        "critic_agent = AssistantAgent(\n",
        "    \"critic\",\n",
        "    model_client=model_client,\n",
        "    system_message=\"Provide constructive feedback for every message. Respond with 'APPROVE' to when your feedbacks are addressed.\",\n",
        ")\n"
      ],
      "metadata": {
        "id": "Ekz2ijRS-frm"
      },
      "execution_count": 12,
      "outputs": []
    },
    {
      "cell_type": "code",
      "source": [
        "max_msg_termination = MaxMessageTermination(max_messages=3)\n",
        "round_robin_team = RoundRobinGroupChat([primary_agent, critic_agent], termination_condition=max_msg_termination)\n",
        "\n",
        "# Use asyncio.run(...) if you are running this script as a standalone script.\n",
        "await Console(round_robin_team.run_stream(task=\"Write a unique, Haiku about the weather in Bangalore\"))\n"
      ],
      "metadata": {
        "colab": {
          "base_uri": "https://localhost:8080/"
        },
        "id": "jze0Ie1UAhLH",
        "outputId": "3672f14d-14b2-49c0-ef82-6ec5b8472120"
      },
      "execution_count": 14,
      "outputs": [
        {
          "output_type": "stream",
          "name": "stdout",
          "text": [
            "---------- TextMessage (user) ----------\n",
            "Write a unique, Haiku about the weather in Bangalore\n",
            "---------- TextMessage (primary) ----------\n",
            "Monsoon whispers fall,  \n",
            "Raindrops dance on bustling streets—  \n",
            "Bangalore in bloom.\n",
            "---------- TextMessage (critic) ----------\n",
            "This Haiku effectively captures the monsoon season in Bangalore. The term \"Monsoon whispers fall\" evokes a sense of gentle, continuous rain, while \"Raindrops dance on bustling streets\" adds a dynamic image of the city’s lively environment. The phrase \"Bangalore in bloom\" beautifully signifies the city's transformation during this season. The structure and imagery are evocative and well-composed.\n",
            "\n",
            "APPROVE\n"
          ]
        },
        {
          "output_type": "execute_result",
          "data": {
            "text/plain": [
              "TaskResult(messages=[TextMessage(source='user', models_usage=None, metadata={}, content='Write a unique, Haiku about the weather in Bangalore', type='TextMessage'), TextMessage(source='primary', models_usage=RequestUsage(prompt_tokens=72, completion_tokens=20), metadata={}, content='Monsoon whispers fall,  \\nRaindrops dance on bustling streets—  \\nBangalore in bloom.', type='TextMessage'), TextMessage(source='critic', models_usage=RequestUsage(prompt_tokens=201, completion_tokens=82), metadata={}, content='This Haiku effectively captures the monsoon season in Bangalore. The term \"Monsoon whispers fall\" evokes a sense of gentle, continuous rain, while \"Raindrops dance on bustling streets\" adds a dynamic image of the city’s lively environment. The phrase \"Bangalore in bloom\" beautifully signifies the city\\'s transformation during this season. The structure and imagery are evocative and well-composed.\\n\\nAPPROVE', type='TextMessage')], stop_reason='Maximum number of messages 3 reached, current message count: 3')"
            ]
          },
          "metadata": {},
          "execution_count": 14
        }
      ]
    },
    {
      "cell_type": "markdown",
      "source": [
        "# Managing State"
      ],
      "metadata": {
        "id": "EVQLVJVLBrlK"
      }
    },
    {
      "cell_type": "code",
      "source": [
        "from autogen_agentchat.agents import AssistantAgent\n",
        "from autogen_agentchat.conditions import MaxMessageTermination\n",
        "from autogen_agentchat.messages import TextMessage\n",
        "from autogen_agentchat.teams import RoundRobinGroupChat\n",
        "from autogen_agentchat.ui import Console\n",
        "from autogen_core import CancellationToken\n",
        "from autogen_ext.models.openai import OpenAIChatCompletionClient\n",
        "\n",
        "\n",
        "assistant_agent = AssistantAgent(\n",
        "    name=\"assistant_agent\",\n",
        "    system_message=\"You are a helpful assistant\",\n",
        "    model_client=model_client,\n",
        ")\n",
        "\n",
        "# Use asyncio.run(...) when running in a script.\n",
        "response = await assistant_agent.on_messages(\n",
        "    [TextMessage(content=\"Write a 3 line poem on river ganga\", source=\"user\")], CancellationToken()\n",
        ")\n",
        "print(response.chat_message)\n",
        "await model_client.close()\n"
      ],
      "metadata": {
        "colab": {
          "base_uri": "https://localhost:8080/"
        },
        "id": "Ac46MqOSAjB4",
        "outputId": "ce2ced8c-17e2-483b-dcf0-4c3cedf0897e"
      },
      "execution_count": 15,
      "outputs": [
        {
          "output_type": "stream",
          "name": "stdout",
          "text": [
            "source='assistant_agent' models_usage=RequestUsage(prompt_tokens=26, completion_tokens=20) metadata={} content=\"Sacred waters flow,  \\nAncient stories whispering,  \\nGanga's grace renews.\" type='TextMessage'\n"
          ]
        }
      ]
    },
    {
      "cell_type": "code",
      "source": [
        "agent_state = await assistant_agent.save_state()\n",
        "print(agent_state)"
      ],
      "metadata": {
        "colab": {
          "base_uri": "https://localhost:8080/"
        },
        "id": "gl289uHpDHci",
        "outputId": "04f6e0a9-e09b-4df3-d50a-5edc13d252fc"
      },
      "execution_count": 16,
      "outputs": [
        {
          "output_type": "stream",
          "name": "stdout",
          "text": [
            "{'type': 'AssistantAgentState', 'version': '1.0.0', 'llm_context': {'messages': [{'content': 'Write a 3 line poem on river ganga', 'source': 'user', 'type': 'UserMessage'}, {'content': \"Sacred waters flow,  \\nAncient stories whispering,  \\nGanga's grace renews.\", 'thought': None, 'source': 'assistant_agent', 'type': 'AssistantMessage'}]}}\n"
          ]
        }
      ]
    },
    {
      "cell_type": "code",
      "source": [
        "# Create the agents.\n",
        "model_client = OpenAIChatCompletionClient(\n",
        "    model=\"gpt-4o\",\n",
        "    api_key=userdata.get(\"OPENAI_API_KEY\"),\n",
        ")\n",
        "\n",
        "new_assistant_agent = AssistantAgent(\n",
        "    name=\"assistant_agent\",\n",
        "    system_message=\"You are a helpful assistant\",\n",
        "    model_client=model_client,\n",
        ")\n",
        "await new_assistant_agent.load_state(agent_state)\n",
        "\n",
        "# Use asyncio.run(...) when running in a script.\n",
        "response = await new_assistant_agent.on_messages(\n",
        "    [TextMessage(content=\"What was the last line of the previous poem you wrote\", source=\"user\")], CancellationToken()\n",
        ")\n",
        "print(response.chat_message)\n",
        "await model_client.close()"
      ],
      "metadata": {
        "colab": {
          "base_uri": "https://localhost:8080/"
        },
        "id": "ESB3M2vFDSKG",
        "outputId": "9ee80717-2bc1-44bb-a93e-1945f81f247b"
      },
      "execution_count": 19,
      "outputs": [
        {
          "output_type": "stream",
          "name": "stdout",
          "text": [
            "source='assistant_agent' models_usage=RequestUsage(prompt_tokens=66, completion_tokens=18) metadata={} content='The last line of the poem I wrote was:  \\n\"Ganga\\'s grace renews.\"' type='TextMessage'\n"
          ]
        }
      ]
    },
    {
      "cell_type": "markdown",
      "source": [
        "# Persisting states"
      ],
      "metadata": {
        "id": "CZBUhnaLDyWv"
      }
    },
    {
      "cell_type": "code",
      "source": [
        "# Create the agents.\n",
        "model_client = OpenAIChatCompletionClient(\n",
        "    model=\"gpt-4o\",\n",
        "    api_key=userdata.get(\"OPENAI_API_KEY\"),\n",
        ")\n",
        "\n",
        "# Define a team.\n",
        "assistant_agent = AssistantAgent(\n",
        "    name=\"assistant_agent\",\n",
        "    system_message=\"You are a helpful assistant\",\n",
        "    model_client=model_client,\n",
        ")\n",
        "agent_team = RoundRobinGroupChat([assistant_agent], termination_condition=MaxMessageTermination(max_messages=2))\n",
        "\n",
        "# Run the team and stream messages to the console.\n",
        "stream = agent_team.run_stream(task=\"Write a beautiful poem 3-line about lake tangayika\")\n",
        "\n",
        "# Use asyncio.run(...) when running in a script.\n",
        "await Console(stream)\n",
        "\n",
        "# Save the state of the agent team.\n",
        "team_state = await agent_team.save_state()"
      ],
      "metadata": {
        "colab": {
          "base_uri": "https://localhost:8080/"
        },
        "id": "Y8ct3eUyFBh-",
        "outputId": "0417f838-2f55-4589-a3b7-f7e698938e3c"
      },
      "execution_count": 32,
      "outputs": [
        {
          "output_type": "stream",
          "name": "stdout",
          "text": [
            "---------- TextMessage (user) ----------\n",
            "Write a beautiful poem 3-line about lake tangayika\n",
            "---------- TextMessage (assistant_agent) ----------\n",
            "In Tanganyika's mirrored depths serene,  \n",
            "Whispers of time dance upon waves aglow,  \n",
            "Cradle of life, where ancient secrets convene.  \n"
          ]
        }
      ]
    },
    {
      "cell_type": "code",
      "source": [
        "await agent_team.reset()\n",
        "stream = agent_team.run_stream(task=\"What was the last line of the poem you wrote?\")\n",
        "await Console(stream)"
      ],
      "metadata": {
        "colab": {
          "base_uri": "https://localhost:8080/"
        },
        "id": "eYhfla7mFkM1",
        "outputId": "88cfa41c-d0f2-40e4-f72e-0b901fe59582"
      },
      "execution_count": 28,
      "outputs": [
        {
          "output_type": "stream",
          "name": "stdout",
          "text": [
            "---------- TextMessage (user) ----------\n",
            "What was the last line of the poem you wrote?\n",
            "---------- TextMessage (assistant_agent) ----------\n",
            "I don't have a specific last line to refer to because I don't generate or store content that way. However, if you'd like, I can help create a new poem or provide a closing line for one you're working on. Let me know what you prefer!\n"
          ]
        },
        {
          "output_type": "execute_result",
          "data": {
            "text/plain": [
              "TaskResult(messages=[TextMessage(source='user', models_usage=None, metadata={}, content='What was the last line of the poem you wrote?', type='TextMessage'), TextMessage(source='assistant_agent', models_usage=RequestUsage(prompt_tokens=28, completion_tokens=51), metadata={}, content=\"I don't have a specific last line to refer to because I don't generate or store content that way. However, if you'd like, I can help create a new poem or provide a closing line for one you're working on. Let me know what you prefer!\", type='TextMessage')], stop_reason='Maximum number of messages 2 reached, current message count: 2')"
            ]
          },
          "metadata": {},
          "execution_count": 28
        }
      ]
    },
    {
      "cell_type": "code",
      "source": [
        "print(team_state)\n",
        "\n",
        "# Load team state.\n",
        "await agent_team.load_state(team_state)\n",
        "stream = agent_team.run_stream(task=\"What was the last line of the poem you wrote?\")\n",
        "await Console(stream)"
      ],
      "metadata": {
        "colab": {
          "base_uri": "https://localhost:8080/"
        },
        "id": "CPyz2ICVFzWu",
        "outputId": "ca343e58-46a0-4589-e981-0a5a53b8ef08"
      },
      "execution_count": 33,
      "outputs": [
        {
          "output_type": "stream",
          "name": "stdout",
          "text": [
            "{'type': 'TeamState', 'version': '1.0.0', 'agent_states': {'assistant_agent': {'type': 'ChatAgentContainerState', 'version': '1.0.0', 'agent_state': {'type': 'AssistantAgentState', 'version': '1.0.0', 'llm_context': {'messages': [{'content': 'Write a beautiful poem 3-line about lake tangayika', 'source': 'user', 'type': 'UserMessage'}, {'content': \"In Tanganyika's mirrored depths serene,  \\nWhispers of time dance upon waves aglow,  \\nCradle of life, where ancient secrets convene.  \", 'thought': None, 'source': 'assistant_agent', 'type': 'AssistantMessage'}]}}, 'message_buffer': []}, 'RoundRobinGroupChatManager': {'type': 'RoundRobinManagerState', 'version': '1.0.0', 'message_thread': [{'source': 'user', 'models_usage': None, 'metadata': {}, 'content': 'Write a beautiful poem 3-line about lake tangayika', 'type': 'TextMessage'}, {'source': 'assistant_agent', 'models_usage': {'prompt_tokens': 29, 'completion_tokens': 32}, 'metadata': {}, 'content': \"In Tanganyika's mirrored depths serene,  \\nWhispers of time dance upon waves aglow,  \\nCradle of life, where ancient secrets convene.  \", 'type': 'TextMessage'}], 'current_turn': 0, 'next_speaker_index': 0}}}\n",
            "---------- TextMessage (user) ----------\n",
            "What was the last line of the poem you wrote?\n",
            "---------- TextMessage (assistant_agent) ----------\n",
            "The last line of the poem I wrote was:  \n",
            "\"Cradle of life, where ancient secrets convene.\"\n"
          ]
        },
        {
          "output_type": "execute_result",
          "data": {
            "text/plain": [
              "TaskResult(messages=[TextMessage(source='user', models_usage=None, metadata={}, content='What was the last line of the poem you wrote?', type='TextMessage'), TextMessage(source='assistant_agent', models_usage=RequestUsage(prompt_tokens=81, completion_tokens=23), metadata={}, content='The last line of the poem I wrote was:  \\n\"Cradle of life, where ancient secrets convene.\"', type='TextMessage')], stop_reason='Maximum number of messages 2 reached, current message count: 2')"
            ]
          },
          "metadata": {},
          "execution_count": 33
        }
      ]
    },
    {
      "cell_type": "code",
      "source": [
        "import json\n",
        "\n",
        "## save state to disk\n",
        "\n",
        "with open(\"team_state.json\", \"w\") as f:\n",
        "    json.dump(team_state, f)\n",
        "\n",
        "## load state from disk\n",
        "with open(\"team_state.json\", \"r\") as f:\n",
        "    team_state = json.load(f)\n",
        "\n",
        "new_agent_team = RoundRobinGroupChat([assistant_agent], termination_condition=MaxMessageTermination(max_messages=2))\n",
        "await new_agent_team.load_state(team_state)\n",
        "stream = new_agent_team.run_stream(task=\"What was the last line of the poem you wrote?\")\n",
        "await Console(stream)\n",
        "await model_client.close()"
      ],
      "metadata": {
        "colab": {
          "base_uri": "https://localhost:8080/"
        },
        "id": "VF7hoyPADe1d",
        "outputId": "7ed2b766-98ed-4d2f-c141-d1fc496c318f"
      },
      "execution_count": 34,
      "outputs": [
        {
          "output_type": "stream",
          "name": "stdout",
          "text": [
            "---------- TextMessage (user) ----------\n",
            "What was the last line of the poem you wrote?\n",
            "---------- TextMessage (assistant_agent) ----------\n",
            "The last line of the poem I wrote is:  \n",
            "\"Cradle of life, where ancient secrets convene.\"\n"
          ]
        }
      ]
    },
    {
      "cell_type": "code",
      "source": [],
      "metadata": {
        "id": "W4v6WNI7D2cV"
      },
      "execution_count": null,
      "outputs": []
    }
  ]
}