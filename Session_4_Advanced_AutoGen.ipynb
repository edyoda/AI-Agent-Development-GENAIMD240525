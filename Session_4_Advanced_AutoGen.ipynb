{
  "cells": [
    {
      "cell_type": "markdown",
      "metadata": {
        "id": "view-in-github",
        "colab_type": "text"
      },
      "source": [
        "<a href=\"https://colab.research.google.com/github/edyoda/AI-Agent-Development-GENAIMD240525/blob/main/Session_4_Advanced_AutoGen.ipynb\" target=\"_parent\"><img src=\"https://colab.research.google.com/assets/colab-badge.svg\" alt=\"Open In Colab\"/></a>"
      ]
    },
    {
      "cell_type": "markdown",
      "metadata": {
        "id": "Gv636gVbNr3_"
      },
      "source": [
        "# Selector Group Chat\n",
        "Key features include:\n",
        "\n",
        "*   Model-based speaker selection\n",
        "*   Configurable participant roles and descriptions\n",
        "*   Prevention of consecutive turns by the same speaker (optional)\n",
        "*   Customizable selection prompting\n",
        "*   Customizable selection function to override the default model-based selection\n",
        "*   Customizable candidate function to narrow-down the set of agents for selection using model\n",
        "\n",
        "\n",
        "\n",
        "\n",
        "\n",
        "\n",
        "\n",
        "\n",
        "\n",
        "\n",
        "\n",
        "\n",
        "\n",
        "\n"
      ]
    },
    {
      "cell_type": "code",
      "execution_count": null,
      "metadata": {
        "colab": {
          "base_uri": "https://localhost:8080/",
          "height": 1000
        },
        "id": "iAwrXgBaJXvC",
        "outputId": "11f5b138-7f1b-4249-e9de-1f67b71a4b8a"
      },
      "outputs": [
        {
          "name": "stdout",
          "output_type": "stream",
          "text": [
            "Collecting autogen-agentchat\n",
            "  Downloading autogen_agentchat-0.5.7-py3-none-any.whl.metadata (2.5 kB)\n",
            "Collecting autogen-ext[azure,openai]\n",
            "  Downloading autogen_ext-0.5.7-py3-none-any.whl.metadata (7.0 kB)\n",
            "Collecting autogen-core==0.5.7 (from autogen-agentchat)\n",
            "  Downloading autogen_core-0.5.7-py3-none-any.whl.metadata (2.3 kB)\n",
            "Collecting jsonref~=1.1.0 (from autogen-core==0.5.7->autogen-agentchat)\n",
            "  Downloading jsonref-1.1.0-py3-none-any.whl.metadata (2.7 kB)\n",
            "Collecting opentelemetry-api>=1.27.0 (from autogen-core==0.5.7->autogen-agentchat)\n",
            "  Downloading opentelemetry_api-1.33.1-py3-none-any.whl.metadata (1.6 kB)\n",
            "Requirement already satisfied: pillow>=11.0.0 in /usr/local/lib/python3.11/dist-packages (from autogen-core==0.5.7->autogen-agentchat) (11.2.1)\n",
            "Requirement already satisfied: protobuf~=5.29.3 in /usr/local/lib/python3.11/dist-packages (from autogen-core==0.5.7->autogen-agentchat) (5.29.4)\n",
            "Requirement already satisfied: pydantic<3.0.0,>=2.10.0 in /usr/local/lib/python3.11/dist-packages (from autogen-core==0.5.7->autogen-agentchat) (2.11.4)\n",
            "Requirement already satisfied: typing-extensions>=4.0.0 in /usr/local/lib/python3.11/dist-packages (from autogen-core==0.5.7->autogen-agentchat) (4.13.2)\n",
            "Collecting azure-ai-inference>=1.0.0b7 (from autogen-ext[azure,openai])\n",
            "  Downloading azure_ai_inference-1.0.0b9-py3-none-any.whl.metadata (34 kB)\n",
            "Collecting azure-ai-projects>=1.0.0b8 (from autogen-ext[azure,openai])\n",
            "  Downloading azure_ai_projects-1.0.0b11-py3-none-any.whl.metadata (23 kB)\n",
            "Collecting azure-core (from autogen-ext[azure,openai])\n",
            "  Downloading azure_core-1.34.0-py3-none-any.whl.metadata (42 kB)\n",
            "\u001b[2K     \u001b[90m━━━━━━━━━━━━━━━━━━━━━━━━━━━━━━━━━━━━━━━━\u001b[0m \u001b[32m42.9/42.9 kB\u001b[0m \u001b[31m1.8 MB/s\u001b[0m eta \u001b[36m0:00:00\u001b[0m\n",
            "\u001b[?25hCollecting azure-identity (from autogen-ext[azure,openai])\n",
            "  Downloading azure_identity-1.23.0-py3-none-any.whl.metadata (81 kB)\n",
            "\u001b[2K     \u001b[90m━━━━━━━━━━━━━━━━━━━━━━━━━━━━━━━━━━━━━━━━\u001b[0m \u001b[32m81.9/81.9 kB\u001b[0m \u001b[31m2.3 MB/s\u001b[0m eta \u001b[36m0:00:00\u001b[0m\n",
            "\u001b[?25hCollecting azure-search-documents>=11.4.0 (from autogen-ext[azure,openai])\n",
            "  Downloading azure_search_documents-11.5.2-py3-none-any.whl.metadata (23 kB)\n",
            "Collecting aiofiles (from autogen-ext[azure,openai])\n",
            "  Downloading aiofiles-24.1.0-py3-none-any.whl.metadata (10 kB)\n",
            "Requirement already satisfied: openai>=1.66.5 in /usr/local/lib/python3.11/dist-packages (from autogen-ext[azure,openai]) (1.81.0)\n",
            "Requirement already satisfied: tiktoken>=0.8.0 in /usr/local/lib/python3.11/dist-packages (from autogen-ext[azure,openai]) (0.9.0)\n",
            "Collecting isodate>=0.6.1 (from azure-ai-inference>=1.0.0b7->autogen-ext[azure,openai])\n",
            "  Downloading isodate-0.7.2-py3-none-any.whl.metadata (11 kB)\n",
            "Collecting azure-storage-blob>=12.15.0 (from azure-ai-projects>=1.0.0b8->autogen-ext[azure,openai])\n",
            "  Downloading azure_storage_blob-12.25.1-py3-none-any.whl.metadata (26 kB)\n",
            "Collecting azure-ai-agents>=1.0.0b1 (from azure-ai-projects>=1.0.0b8->autogen-ext[azure,openai])\n",
            "  Downloading azure_ai_agents-1.1.0b1-py3-none-any.whl.metadata (53 kB)\n",
            "\u001b[2K     \u001b[90m━━━━━━━━━━━━━━━━━━━━━━━━━━━━━━━━━━━━━━━━\u001b[0m \u001b[32m53.0/53.0 kB\u001b[0m \u001b[31m3.4 MB/s\u001b[0m eta \u001b[36m0:00:00\u001b[0m\n",
            "\u001b[?25hRequirement already satisfied: requests>=2.21.0 in /usr/local/lib/python3.11/dist-packages (from azure-core->autogen-ext[azure,openai]) (2.32.3)\n",
            "Requirement already satisfied: six>=1.11.0 in /usr/local/lib/python3.11/dist-packages (from azure-core->autogen-ext[azure,openai]) (1.17.0)\n",
            "Collecting azure-common>=1.1 (from azure-search-documents>=11.4.0->autogen-ext[azure,openai])\n",
            "  Downloading azure_common-1.1.28-py2.py3-none-any.whl.metadata (5.0 kB)\n",
            "Requirement already satisfied: anyio<5,>=3.5.0 in /usr/local/lib/python3.11/dist-packages (from openai>=1.66.5->autogen-ext[azure,openai]) (4.9.0)\n",
            "Requirement already satisfied: distro<2,>=1.7.0 in /usr/local/lib/python3.11/dist-packages (from openai>=1.66.5->autogen-ext[azure,openai]) (1.9.0)\n",
            "Requirement already satisfied: httpx<1,>=0.23.0 in /usr/local/lib/python3.11/dist-packages (from openai>=1.66.5->autogen-ext[azure,openai]) (0.28.1)\n",
            "Requirement already satisfied: jiter<1,>=0.4.0 in /usr/local/lib/python3.11/dist-packages (from openai>=1.66.5->autogen-ext[azure,openai]) (0.10.0)\n",
            "Requirement already satisfied: sniffio in /usr/local/lib/python3.11/dist-packages (from openai>=1.66.5->autogen-ext[azure,openai]) (1.3.1)\n",
            "Requirement already satisfied: tqdm>4 in /usr/local/lib/python3.11/dist-packages (from openai>=1.66.5->autogen-ext[azure,openai]) (4.67.1)\n",
            "Requirement already satisfied: regex>=2022.1.18 in /usr/local/lib/python3.11/dist-packages (from tiktoken>=0.8.0->autogen-ext[azure,openai]) (2024.11.6)\n",
            "Requirement already satisfied: cryptography>=2.5 in /usr/local/lib/python3.11/dist-packages (from azure-identity->autogen-ext[azure,openai]) (43.0.3)\n",
            "Collecting msal>=1.30.0 (from azure-identity->autogen-ext[azure,openai])\n",
            "  Downloading msal-1.32.3-py3-none-any.whl.metadata (11 kB)\n",
            "Collecting msal-extensions>=1.2.0 (from azure-identity->autogen-ext[azure,openai])\n",
            "  Downloading msal_extensions-1.3.1-py3-none-any.whl.metadata (7.8 kB)\n",
            "Requirement already satisfied: idna>=2.8 in /usr/local/lib/python3.11/dist-packages (from anyio<5,>=3.5.0->openai>=1.66.5->autogen-ext[azure,openai]) (3.10)\n",
            "Requirement already satisfied: cffi>=1.12 in /usr/local/lib/python3.11/dist-packages (from cryptography>=2.5->azure-identity->autogen-ext[azure,openai]) (1.17.1)\n",
            "Requirement already satisfied: certifi in /usr/local/lib/python3.11/dist-packages (from httpx<1,>=0.23.0->openai>=1.66.5->autogen-ext[azure,openai]) (2025.4.26)\n",
            "Requirement already satisfied: httpcore==1.* in /usr/local/lib/python3.11/dist-packages (from httpx<1,>=0.23.0->openai>=1.66.5->autogen-ext[azure,openai]) (1.0.9)\n",
            "Requirement already satisfied: h11>=0.16 in /usr/local/lib/python3.11/dist-packages (from httpcore==1.*->httpx<1,>=0.23.0->openai>=1.66.5->autogen-ext[azure,openai]) (0.16.0)\n",
            "Requirement already satisfied: PyJWT<3,>=1.0.0 in /usr/local/lib/python3.11/dist-packages (from PyJWT[crypto]<3,>=1.0.0->msal>=1.30.0->azure-identity->autogen-ext[azure,openai]) (2.10.1)\n",
            "Collecting deprecated>=1.2.6 (from opentelemetry-api>=1.27.0->autogen-core==0.5.7->autogen-agentchat)\n",
            "  Downloading Deprecated-1.2.18-py2.py3-none-any.whl.metadata (5.7 kB)\n",
            "Collecting importlib-metadata<8.7.0,>=6.0 (from opentelemetry-api>=1.27.0->autogen-core==0.5.7->autogen-agentchat)\n",
            "  Downloading importlib_metadata-8.6.1-py3-none-any.whl.metadata (4.7 kB)\n",
            "Requirement already satisfied: annotated-types>=0.6.0 in /usr/local/lib/python3.11/dist-packages (from pydantic<3.0.0,>=2.10.0->autogen-core==0.5.7->autogen-agentchat) (0.7.0)\n",
            "Requirement already satisfied: pydantic-core==2.33.2 in /usr/local/lib/python3.11/dist-packages (from pydantic<3.0.0,>=2.10.0->autogen-core==0.5.7->autogen-agentchat) (2.33.2)\n",
            "Requirement already satisfied: typing-inspection>=0.4.0 in /usr/local/lib/python3.11/dist-packages (from pydantic<3.0.0,>=2.10.0->autogen-core==0.5.7->autogen-agentchat) (0.4.1)\n",
            "Requirement already satisfied: charset-normalizer<4,>=2 in /usr/local/lib/python3.11/dist-packages (from requests>=2.21.0->azure-core->autogen-ext[azure,openai]) (3.4.2)\n",
            "Requirement already satisfied: urllib3<3,>=1.21.1 in /usr/local/lib/python3.11/dist-packages (from requests>=2.21.0->azure-core->autogen-ext[azure,openai]) (2.4.0)\n",
            "Requirement already satisfied: pycparser in /usr/local/lib/python3.11/dist-packages (from cffi>=1.12->cryptography>=2.5->azure-identity->autogen-ext[azure,openai]) (2.22)\n",
            "Requirement already satisfied: wrapt<2,>=1.10 in /usr/local/lib/python3.11/dist-packages (from deprecated>=1.2.6->opentelemetry-api>=1.27.0->autogen-core==0.5.7->autogen-agentchat) (1.17.2)\n",
            "Requirement already satisfied: zipp>=3.20 in /usr/local/lib/python3.11/dist-packages (from importlib-metadata<8.7.0,>=6.0->opentelemetry-api>=1.27.0->autogen-core==0.5.7->autogen-agentchat) (3.21.0)\n",
            "Downloading autogen_agentchat-0.5.7-py3-none-any.whl (106 kB)\n",
            "\u001b[2K   \u001b[90m━━━━━━━━━━━━━━━━━━━━━━━━━━━━━━━━━━━━━━━━\u001b[0m \u001b[32m106.1/106.1 kB\u001b[0m \u001b[31m5.3 MB/s\u001b[0m eta \u001b[36m0:00:00\u001b[0m\n",
            "\u001b[?25hDownloading autogen_core-0.5.7-py3-none-any.whl (96 kB)\n",
            "\u001b[2K   \u001b[90m━━━━━━━━━━━━━━━━━━━━━━━━━━━━━━━━━━━━━━━━\u001b[0m \u001b[32m96.6/96.6 kB\u001b[0m \u001b[31m6.3 MB/s\u001b[0m eta \u001b[36m0:00:00\u001b[0m\n",
            "\u001b[?25hDownloading azure_ai_inference-1.0.0b9-py3-none-any.whl (124 kB)\n",
            "\u001b[2K   \u001b[90m━━━━━━━━━━━━━━━━━━━━━━━━━━━━━━━━━━━━━━━━\u001b[0m \u001b[32m124.9/124.9 kB\u001b[0m \u001b[31m8.1 MB/s\u001b[0m eta \u001b[36m0:00:00\u001b[0m\n",
            "\u001b[?25hDownloading azure_ai_projects-1.0.0b11-py3-none-any.whl (130 kB)\n",
            "\u001b[2K   \u001b[90m━━━━━━━━━━━━━━━━━━━━━━━━━━━━━━━━━━━━━━━━\u001b[0m \u001b[32m131.0/131.0 kB\u001b[0m \u001b[31m9.3 MB/s\u001b[0m eta \u001b[36m0:00:00\u001b[0m\n",
            "\u001b[?25hDownloading azure_core-1.34.0-py3-none-any.whl (207 kB)\n",
            "\u001b[2K   \u001b[90m━━━━━━━━━━━━━━━━━━━━━━━━━━━━━━━━━━━━━━━━\u001b[0m \u001b[32m207.4/207.4 kB\u001b[0m \u001b[31m14.9 MB/s\u001b[0m eta \u001b[36m0:00:00\u001b[0m\n",
            "\u001b[?25hDownloading azure_search_documents-11.5.2-py3-none-any.whl (298 kB)\n",
            "\u001b[2K   \u001b[90m━━━━━━━━━━━━━━━━━━━━━━━━━━━━━━━━━━━━━━━━\u001b[0m \u001b[32m298.8/298.8 kB\u001b[0m \u001b[31m15.9 MB/s\u001b[0m eta \u001b[36m0:00:00\u001b[0m\n",
            "\u001b[?25hDownloading aiofiles-24.1.0-py3-none-any.whl (15 kB)\n",
            "Downloading autogen_ext-0.5.7-py3-none-any.whl (296 kB)\n",
            "\u001b[2K   \u001b[90m━━━━━━━━━━━━━━━━━━━━━━━━━━━━━━━━━━━━━━━━\u001b[0m \u001b[32m296.9/296.9 kB\u001b[0m \u001b[31m16.9 MB/s\u001b[0m eta \u001b[36m0:00:00\u001b[0m\n",
            "\u001b[?25hDownloading azure_identity-1.23.0-py3-none-any.whl (186 kB)\n",
            "\u001b[2K   \u001b[90m━━━━━━━━━━━━━━━━━━━━━━━━━━━━━━━━━━━━━━━━\u001b[0m \u001b[32m186.1/186.1 kB\u001b[0m \u001b[31m12.7 MB/s\u001b[0m eta \u001b[36m0:00:00\u001b[0m\n",
            "\u001b[?25hDownloading azure_ai_agents-1.1.0b1-py3-none-any.whl (189 kB)\n",
            "\u001b[2K   \u001b[90m━━━━━━━━━━━━━━━━━━━━━━━━━━━━━━━━━━━━━━━━\u001b[0m \u001b[32m189.4/189.4 kB\u001b[0m \u001b[31m12.4 MB/s\u001b[0m eta \u001b[36m0:00:00\u001b[0m\n",
            "\u001b[?25hDownloading azure_common-1.1.28-py2.py3-none-any.whl (14 kB)\n",
            "Downloading azure_storage_blob-12.25.1-py3-none-any.whl (406 kB)\n",
            "\u001b[2K   \u001b[90m━━━━━━━━━━━━━━━━━━━━━━━━━━━━━━━━━━━━━━━━\u001b[0m \u001b[32m407.0/407.0 kB\u001b[0m \u001b[31m19.2 MB/s\u001b[0m eta \u001b[36m0:00:00\u001b[0m\n",
            "\u001b[?25hDownloading isodate-0.7.2-py3-none-any.whl (22 kB)\n",
            "Downloading jsonref-1.1.0-py3-none-any.whl (9.4 kB)\n",
            "Downloading msal-1.32.3-py3-none-any.whl (115 kB)\n",
            "\u001b[2K   \u001b[90m━━━━━━━━━━━━━━━━━━━━━━━━━━━━━━━━━━━━━━━━\u001b[0m \u001b[32m115.4/115.4 kB\u001b[0m \u001b[31m6.8 MB/s\u001b[0m eta \u001b[36m0:00:00\u001b[0m\n",
            "\u001b[?25hDownloading msal_extensions-1.3.1-py3-none-any.whl (20 kB)\n",
            "Downloading opentelemetry_api-1.33.1-py3-none-any.whl (65 kB)\n",
            "\u001b[2K   \u001b[90m━━━━━━━━━━━━━━━━━━━━━━━━━━━━━━━━━━━━━━━━\u001b[0m \u001b[32m65.8/65.8 kB\u001b[0m \u001b[31m4.5 MB/s\u001b[0m eta \u001b[36m0:00:00\u001b[0m\n",
            "\u001b[?25hDownloading Deprecated-1.2.18-py2.py3-none-any.whl (10.0 kB)\n",
            "Downloading importlib_metadata-8.6.1-py3-none-any.whl (26 kB)\n",
            "Installing collected packages: azure-common, jsonref, isodate, importlib-metadata, deprecated, aiofiles, opentelemetry-api, azure-core, azure-storage-blob, azure-search-documents, azure-ai-inference, azure-ai-agents, autogen-core, msal, azure-ai-projects, autogen-ext, autogen-agentchat, msal-extensions, azure-identity\n",
            "  Attempting uninstall: importlib-metadata\n",
            "    Found existing installation: importlib_metadata 8.7.0\n",
            "    Uninstalling importlib_metadata-8.7.0:\n",
            "      Successfully uninstalled importlib_metadata-8.7.0\n",
            "Successfully installed aiofiles-24.1.0 autogen-agentchat-0.5.7 autogen-core-0.5.7 autogen-ext-0.5.7 azure-ai-agents-1.1.0b1 azure-ai-inference-1.0.0b9 azure-ai-projects-1.0.0b11 azure-common-1.1.28 azure-core-1.34.0 azure-identity-1.23.0 azure-search-documents-11.5.2 azure-storage-blob-12.25.1 deprecated-1.2.18 importlib-metadata-8.6.1 isodate-0.7.2 jsonref-1.1.0 msal-1.32.3 msal-extensions-1.3.1 opentelemetry-api-1.33.1\n"
          ]
        },
        {
          "data": {
            "application/vnd.colab-display-data+json": {
              "id": "25551fcfc430441eb6e200836b770b45",
              "pip_warning": {
                "packages": [
                  "importlib_metadata"
                ]
              }
            }
          },
          "metadata": {},
          "output_type": "display_data"
        }
      ],
      "source": [
        "!pip install -U \"autogen-agentchat\" \"autogen-ext[openai,azure]\""
      ]
    },
    {
      "cell_type": "code",
      "execution_count": null,
      "metadata": {
        "id": "9ip1_Z3rR8iQ"
      },
      "outputs": [],
      "source": [
        "from typing import List, Sequence\n",
        "\n",
        "from autogen_agentchat.agents import AssistantAgent, UserProxyAgent\n",
        "from autogen_agentchat.conditions import MaxMessageTermination, TextMentionTermination\n",
        "from autogen_agentchat.messages import BaseAgentEvent, BaseChatMessage\n",
        "from autogen_agentchat.teams import SelectorGroupChat\n",
        "from autogen_agentchat.ui import Console\n",
        "from autogen_ext.models.openai import OpenAIChatCompletionClient\n"
      ]
    },
    {
      "cell_type": "code",
      "execution_count": null,
      "metadata": {
        "id": "ese5r8usSGLv"
      },
      "outputs": [],
      "source": [
        "# Note: This example uses mock tools instead of real APIs for demonstration purposes\n",
        "def search_web_tool(query: str) -> str:\n",
        "    if \"2006-2007\" in query:\n",
        "        return \"\"\"Here are the total points scored by Miami Heat players in the 2006-2007 season:\n",
        "        Udonis Haslem: 844 points\n",
        "        Dwayne Wade: 1397 points\n",
        "        James Posey: 550 points\n",
        "        ...\n",
        "        \"\"\"\n",
        "    elif \"2007-2008\" in query:\n",
        "        return \"The number of total rebounds for Dwayne Wade in the Miami Heat season 2007-2008 is 214.\"\n",
        "    elif \"2008-2009\" in query:\n",
        "        return \"The number of total rebounds for Dwayne Wade in the Miami Heat season 2008-2009 is 398.\"\n",
        "    return \"No data found.\"\n",
        "\n",
        "\n",
        "def percentage_change_tool(start: float, end: float) -> float:\n",
        "    return ((end - start) / start) * 100\n"
      ]
    },
    {
      "cell_type": "code",
      "execution_count": null,
      "metadata": {
        "colab": {
          "base_uri": "https://localhost:8080/"
        },
        "id": "wtBf8k0lSUbb",
        "outputId": "3b370ed6-53a7-4471-84d2-891f13638b5b"
      },
      "outputs": [
        {
          "name": "stderr",
          "output_type": "stream",
          "text": [
            "/usr/local/lib/python3.11/dist-packages/autogen_ext/models/openai/_openai_client.py:413: UserWarning: Missing required field 'structured_output' in ModelInfo. This field will be required in a future version of AutoGen.\n",
            "  validate_model_info(self._model_info)\n"
          ]
        }
      ],
      "source": [
        "from google.colab import userdata\n",
        "\n",
        "model_client = OpenAIChatCompletionClient(\n",
        "        model=\"deepseek-chat\",\n",
        "        temperature=0.85,\n",
        "        api_key=userdata.get('DEEPSEEK_API_KEY'),\n",
        "        base_url=\"https://api.deepseek.com/v1\",\n",
        "        model_info={\n",
        "            \"model_name\": \"deepseek-chat\",\n",
        "            \"api_type\": \"openai\",\n",
        "            \"vendor\": \"deepseek\",\n",
        "            \"json_output\": False,\n",
        "            \"vision\": False,\n",
        "            \"function_calling\": True,\n",
        "            \"function_call\": False,\n",
        "            \"streaming\": True,\n",
        "            \"cost_per_token\": 0,\n",
        "            \"family\": \"deepseek\",\n",
        "        }\n",
        "    )\n"
      ]
    },
    {
      "cell_type": "code",
      "execution_count": null,
      "metadata": {
        "id": "IPa_APznSI41"
      },
      "outputs": [],
      "source": [
        "\n",
        "\n",
        "planning_agent = AssistantAgent(\n",
        "    \"PlanningAgent\",\n",
        "    description=\"An agent for planning tasks, this agent should be the first to engage when given a new task.\",\n",
        "    model_client=model_client,\n",
        "    system_message=\"\"\"\n",
        "    You are a planning agent.\n",
        "    Your job is to break down complex tasks into smaller, manageable subtasks.\n",
        "    Your team members are:\n",
        "        WebSearchAgent: Searches for information\n",
        "        DataAnalystAgent: Performs calculations\n",
        "\n",
        "    You only plan and delegate tasks - you do not execute them yourself.\n",
        "\n",
        "    When assigning tasks, use this format:\n",
        "    1. <agent> : <task>\n",
        "\n",
        "    After all tasks are complete, summarize the findings and end with \"TERMINATE\".\n",
        "    \"\"\",\n",
        ")\n",
        "\n",
        "web_search_agent = AssistantAgent(\n",
        "    \"WebSearchAgent\",\n",
        "    description=\"An agent for searching information on the web.\",\n",
        "    tools=[search_web_tool],\n",
        "    model_client=model_client,\n",
        "    system_message=\"\"\"\n",
        "    You are a web search agent.\n",
        "    Your only tool is search_tool - use it to find information.\n",
        "    You make only one search call at a time.\n",
        "    Once you have the results, you never do calculations based on them.\n",
        "    \"\"\",\n",
        ")\n",
        "\n",
        "data_analyst_agent = AssistantAgent(\n",
        "    \"DataAnalystAgent\",\n",
        "    description=\"An agent for performing calculations.\",\n",
        "    model_client=model_client,\n",
        "    tools=[percentage_change_tool],\n",
        "    system_message=\"\"\"\n",
        "    You are a data analyst.\n",
        "    Given the tasks you have been assigned, you should analyze the data and provide results using the tools provided.\n",
        "    If you have not seen the data, ask for it.\n",
        "    \"\"\",\n",
        ")\n"
      ]
    },
    {
      "cell_type": "code",
      "execution_count": null,
      "metadata": {
        "id": "K182IjCwSbQs"
      },
      "outputs": [],
      "source": [
        "text_mention_termination = TextMentionTermination(\"TERMINATE\")\n",
        "max_messages_termination = MaxMessageTermination(max_messages=25)\n",
        "termination = text_mention_termination | max_messages_termination\n"
      ]
    },
    {
      "cell_type": "code",
      "execution_count": null,
      "metadata": {
        "id": "h36xrAv5Sncf"
      },
      "outputs": [],
      "source": [
        "selector_prompt = \"\"\"Select an agent to perform task.\n",
        "\n",
        "{roles}\n",
        "\n",
        "Current conversation context:\n",
        "{history}\n",
        "\n",
        "Read the above conversation, then select an agent from {participants} to perform the next task.\n",
        "Make sure the planner agent has assigned tasks before other agents start working.\n",
        "Only select one agent.\n",
        "\"\"\"\n"
      ]
    },
    {
      "cell_type": "code",
      "execution_count": null,
      "metadata": {
        "id": "Co2OF9xKSpTI"
      },
      "outputs": [],
      "source": [
        "team = SelectorGroupChat(\n",
        "    [planning_agent, web_search_agent, data_analyst_agent],\n",
        "    model_client=model_client,\n",
        "    termination_condition=termination,\n",
        "    selector_prompt=selector_prompt,\n",
        "    allow_repeated_speaker=True,  # Allow an agent to speak multiple turns in a row.\n",
        ")\n"
      ]
    },
    {
      "cell_type": "code",
      "execution_count": null,
      "metadata": {
        "id": "aPGlz-UkTMGG"
      },
      "outputs": [],
      "source": [
        "task = \"Who was the Miami Heat player with the highest points in the 2006-2007 season, and what was the percentage change in his total rebounds between the 2007-2008 and 2008-2009 seasons?\""
      ]
    },
    {
      "cell_type": "code",
      "execution_count": null,
      "metadata": {
        "colab": {
          "base_uri": "https://localhost:8080/"
        },
        "id": "ZHkkd2g1TOwc",
        "outputId": "2bb97b66-4ee1-486c-f6d7-2ea32ae935f0"
      },
      "outputs": [
        {
          "name": "stdout",
          "output_type": "stream",
          "text": [
            "---------- TextMessage (user) ----------\n",
            "Who was the Miami Heat player with the highest points in the 2006-2007 season, and what was the percentage change in his total rebounds between the 2007-2008 and 2008-2009 seasons?\n",
            "---------- TextMessage (PlanningAgent) ----------\n",
            "Here's the plan to answer your question:\n",
            "\n",
            "1. WebSearchAgent : Find the Miami Heat player with the highest points in the 2006-2007 season.\n",
            "2. WebSearchAgent : Find the total rebounds for this player in the 2007-2008 season.\n",
            "3. WebSearchAgent : Find the total rebounds for this player in the 2008-2009 season.\n",
            "4. DataAnalystAgent : Calculate the percentage change in rebounds between the 2007-2008 and 2008-2009 seasons for this player.\n",
            "\n",
            "After we receive all this information, I'll summarize the findings and terminate. \n",
            "\n",
            "Proceeding with step 1...\n",
            "---------- ToolCallRequestEvent (WebSearchAgent) ----------\n",
            "[FunctionCall(id='call_0_8b0e37bd-1461-4a5e-a925-2040b592e195', arguments='{\"query\":\"Miami Heat player with the highest points in the 2006-2007 season\"}', name='search_web_tool')]\n",
            "---------- ToolCallExecutionEvent (WebSearchAgent) ----------\n",
            "[FunctionExecutionResult(content='Here are the total points scored by Miami Heat players in the 2006-2007 season:\\n        Udonis Haslem: 844 points\\n        Dwayne Wade: 1397 points\\n        James Posey: 550 points\\n        ...\\n        ', name='search_web_tool', call_id='call_0_8b0e37bd-1461-4a5e-a925-2040b592e195', is_error=False)]\n",
            "---------- ToolCallSummaryMessage (WebSearchAgent) ----------\n",
            "Here are the total points scored by Miami Heat players in the 2006-2007 season:\n",
            "        Udonis Haslem: 844 points\n",
            "        Dwayne Wade: 1397 points\n",
            "        James Posey: 550 points\n",
            "        ...\n",
            "        \n",
            "---------- ThoughtEvent (WebSearchAgent) ----------\n",
            "The Miami Heat player with the highest points in the 2006-2007 season was Dwyane Wade, with 1,397 points.\n",
            "\n",
            "Proceeding with step 2: Finding Dwyane Wade's total rebounds in the 2007-2008 season.\n",
            "---------- ToolCallRequestEvent (WebSearchAgent) ----------\n",
            "[FunctionCall(id='call_0_cab061fd-cd3c-4cec-8ac5-c6cb2a035f93', arguments='{\"query\":\"Dwyane Wade total rebounds 2007-2008 season\"}', name='search_web_tool')]\n",
            "---------- ToolCallExecutionEvent (WebSearchAgent) ----------\n",
            "[FunctionExecutionResult(content='The number of total rebounds for Dwayne Wade in the Miami Heat season 2007-2008 is 214.', name='search_web_tool', call_id='call_0_cab061fd-cd3c-4cec-8ac5-c6cb2a035f93', is_error=False)]\n",
            "---------- ToolCallSummaryMessage (WebSearchAgent) ----------\n",
            "The number of total rebounds for Dwayne Wade in the Miami Heat season 2007-2008 is 214.\n",
            "---------- ThoughtEvent (WebSearchAgent) ----------\n",
            "Dwyane Wade had 214 total rebounds in the 2007-2008 season.\n",
            "\n",
            "Proceeding with step 3: Finding Dwyane Wade's total rebounds in the 2008-2009 season.\n",
            "---------- ToolCallRequestEvent (WebSearchAgent) ----------\n",
            "[FunctionCall(id='call_0_971750a1-df21-44eb-8605-b49508192b91', arguments='{\"query\":\"Dwyane Wade total rebounds 2008-2009 season\"}', name='search_web_tool')]\n",
            "---------- ToolCallExecutionEvent (WebSearchAgent) ----------\n",
            "[FunctionExecutionResult(content='The number of total rebounds for Dwayne Wade in the Miami Heat season 2008-2009 is 398.', name='search_web_tool', call_id='call_0_971750a1-df21-44eb-8605-b49508192b91', is_error=False)]\n",
            "---------- ToolCallSummaryMessage (WebSearchAgent) ----------\n",
            "The number of total rebounds for Dwayne Wade in the Miami Heat season 2008-2009 is 398.\n",
            "---------- ToolCallRequestEvent (DataAnalystAgent) ----------\n",
            "[FunctionCall(id='call_0_2698df14-5773-4a1a-9229-c014661558ac', arguments='{\"start\":214,\"end\":398}', name='percentage_change_tool')]\n",
            "---------- ToolCallExecutionEvent (DataAnalystAgent) ----------\n",
            "[FunctionExecutionResult(content='85.98130841121495', name='percentage_change_tool', call_id='call_0_2698df14-5773-4a1a-9229-c014661558ac', is_error=False)]\n",
            "---------- ToolCallSummaryMessage (DataAnalystAgent) ----------\n",
            "85.98130841121495\n",
            "---------- TextMessage (PlanningAgent) ----------\n",
            "Based on the information gathered and calculated:\n",
            "\n",
            "1. Dwayne Wade was the Miami Heat player with the highest points (1397) in the 2006-2007 season.\n",
            "2. His total rebounds increased from 214 in 2007-2008 to 398 in 2008-2009.\n",
            "3. The percentage change in his rebounds was approximately 85.98% increase.\n",
            "\n",
            "TERMINATE\n"
          ]
        },
        {
          "data": {
            "text/plain": [
              "TaskResult(messages=[TextMessage(source='user', models_usage=None, metadata={}, content='Who was the Miami Heat player with the highest points in the 2006-2007 season, and what was the percentage change in his total rebounds between the 2007-2008 and 2008-2009 seasons?', type='TextMessage'), TextMessage(source='PlanningAgent', models_usage=RequestUsage(prompt_tokens=152, completion_tokens=136), metadata={}, content=\"Here's the plan to answer your question:\\n\\n1. WebSearchAgent : Find the Miami Heat player with the highest points in the 2006-2007 season.\\n2. WebSearchAgent : Find the total rebounds for this player in the 2007-2008 season.\\n3. WebSearchAgent : Find the total rebounds for this player in the 2008-2009 season.\\n4. DataAnalystAgent : Calculate the percentage change in rebounds between the 2007-2008 and 2008-2009 seasons for this player.\\n\\nAfter we receive all this information, I'll summarize the findings and terminate. \\n\\nProceeding with step 1...\", type='TextMessage'), ToolCallRequestEvent(source='WebSearchAgent', models_usage=RequestUsage(prompt_tokens=347, completion_tokens=37), metadata={}, content=[FunctionCall(id='call_0_8b0e37bd-1461-4a5e-a925-2040b592e195', arguments='{\"query\":\"Miami Heat player with the highest points in the 2006-2007 season\"}', name='search_web_tool')], type='ToolCallRequestEvent'), ToolCallExecutionEvent(source='WebSearchAgent', models_usage=None, metadata={}, content=[FunctionExecutionResult(content='Here are the total points scored by Miami Heat players in the 2006-2007 season:\\n        Udonis Haslem: 844 points\\n        Dwayne Wade: 1397 points\\n        James Posey: 550 points\\n        ...\\n        ', name='search_web_tool', call_id='call_0_8b0e37bd-1461-4a5e-a925-2040b592e195', is_error=False)], type='ToolCallExecutionEvent'), ToolCallSummaryMessage(source='WebSearchAgent', models_usage=None, metadata={}, content='Here are the total points scored by Miami Heat players in the 2006-2007 season:\\n        Udonis Haslem: 844 points\\n        Dwayne Wade: 1397 points\\n        James Posey: 550 points\\n        ...\\n        ', type='ToolCallSummaryMessage'), ThoughtEvent(source='WebSearchAgent', models_usage=None, metadata={}, content=\"The Miami Heat player with the highest points in the 2006-2007 season was Dwyane Wade, with 1,397 points.\\n\\nProceeding with step 2: Finding Dwyane Wade's total rebounds in the 2007-2008 season.\", type='ThoughtEvent'), ToolCallRequestEvent(source='WebSearchAgent', models_usage=RequestUsage(prompt_tokens=443, completion_tokens=88), metadata={}, content=[FunctionCall(id='call_0_cab061fd-cd3c-4cec-8ac5-c6cb2a035f93', arguments='{\"query\":\"Dwyane Wade total rebounds 2007-2008 season\"}', name='search_web_tool')], type='ToolCallRequestEvent'), ToolCallExecutionEvent(source='WebSearchAgent', models_usage=None, metadata={}, content=[FunctionExecutionResult(content='The number of total rebounds for Dwayne Wade in the Miami Heat season 2007-2008 is 214.', name='search_web_tool', call_id='call_0_cab061fd-cd3c-4cec-8ac5-c6cb2a035f93', is_error=False)], type='ToolCallExecutionEvent'), ToolCallSummaryMessage(source='WebSearchAgent', models_usage=None, metadata={}, content='The number of total rebounds for Dwayne Wade in the Miami Heat season 2007-2008 is 214.', type='ToolCallSummaryMessage'), ThoughtEvent(source='WebSearchAgent', models_usage=None, metadata={}, content=\"Dwyane Wade had 214 total rebounds in the 2007-2008 season.\\n\\nProceeding with step 3: Finding Dwyane Wade's total rebounds in the 2008-2009 season.\", type='ThoughtEvent'), ToolCallRequestEvent(source='WebSearchAgent', models_usage=RequestUsage(prompt_tokens=561, completion_tokens=77), metadata={}, content=[FunctionCall(id='call_0_971750a1-df21-44eb-8605-b49508192b91', arguments='{\"query\":\"Dwyane Wade total rebounds 2008-2009 season\"}', name='search_web_tool')], type='ToolCallRequestEvent'), ToolCallExecutionEvent(source='WebSearchAgent', models_usage=None, metadata={}, content=[FunctionExecutionResult(content='The number of total rebounds for Dwayne Wade in the Miami Heat season 2008-2009 is 398.', name='search_web_tool', call_id='call_0_971750a1-df21-44eb-8605-b49508192b91', is_error=False)], type='ToolCallExecutionEvent'), ToolCallSummaryMessage(source='WebSearchAgent', models_usage=None, metadata={}, content='The number of total rebounds for Dwayne Wade in the Miami Heat season 2008-2009 is 398.', type='ToolCallSummaryMessage'), ToolCallRequestEvent(source='DataAnalystAgent', models_usage=RequestUsage(prompt_tokens=474, completion_tokens=24), metadata={}, content=[FunctionCall(id='call_0_2698df14-5773-4a1a-9229-c014661558ac', arguments='{\"start\":214,\"end\":398}', name='percentage_change_tool')], type='ToolCallRequestEvent'), ToolCallExecutionEvent(source='DataAnalystAgent', models_usage=None, metadata={}, content=[FunctionExecutionResult(content='85.98130841121495', name='percentage_change_tool', call_id='call_0_2698df14-5773-4a1a-9229-c014661558ac', is_error=False)], type='ToolCallExecutionEvent'), ToolCallSummaryMessage(source='DataAnalystAgent', models_usage=None, metadata={}, content='85.98130841121495', type='ToolCallSummaryMessage'), TextMessage(source='PlanningAgent', models_usage=RequestUsage(prompt_tokens=402, completion_tokens=84), metadata={}, content='Based on the information gathered and calculated:\\n\\n1. Dwayne Wade was the Miami Heat player with the highest points (1397) in the 2006-2007 season.\\n2. His total rebounds increased from 214 in 2007-2008 to 398 in 2008-2009.\\n3. The percentage change in his rebounds was approximately 85.98% increase.\\n\\nTERMINATE', type='TextMessage')], stop_reason=\"Text 'TERMINATE' mentioned\")"
            ]
          },
          "execution_count": 12,
          "metadata": {},
          "output_type": "execute_result"
        }
      ],
      "source": [
        "# Use asyncio.run(...) if you are running this in a script.\n",
        "await Console(team.run_stream(task=task))"
      ]
    },
    {
      "cell_type": "markdown",
      "metadata": {
        "id": "1lYuMnMTUb2i"
      },
      "source": [
        "# Selector Function"
      ]
    },
    {
      "cell_type": "code",
      "execution_count": null,
      "metadata": {
        "colab": {
          "base_uri": "https://localhost:8080/"
        },
        "id": "ZGFOlHsLTRkk",
        "outputId": "2c5c14c5-6cf6-48d3-ffe2-3d85d51a9883"
      },
      "outputs": [
        {
          "name": "stdout",
          "output_type": "stream",
          "text": [
            "---------- TextMessage (user) ----------\n",
            "Who was the Miami Heat player with the highest points in the 2006-2007 season, and what was the percentage change in his total rebounds between the 2007-2008 and 2008-2009 seasons?\n",
            "---------- TextMessage (PlanningAgent) ----------\n",
            "Here's the plan to answer your question:\n",
            "\n",
            "1. WebSearchAgent : Find the Miami Heat player with the highest points in the 2006-2007 NBA season\n",
            "2. WebSearchAgent : Find the total rebounds for this player in the 2007-2008 season\n",
            "3. WebSearchAgent : Find the total rebounds for this player in the 2008-2009 season\n",
            "4. DataAnalystAgent : Calculate the percentage change in rebounds between 2007-2008 and 2008-2009 seasons\n",
            "\n",
            "Once we have all this information, I'll summarize the findings and terminate. \n",
            "\n",
            "Would you like me to proceed with this plan?\n",
            "---------- ThoughtEvent (WebSearchAgent) ----------\n",
            "Yes, please proceed with the plan. I'll start by finding the Miami Heat player with the highest points in the 2006-2007 NBA season.\n",
            "---------- ToolCallRequestEvent (WebSearchAgent) ----------\n",
            "[FunctionCall(id='call_0_bac9e59d-a6bb-42fb-9218-1d0220d7a258', arguments='{\"query\":\"Miami Heat player with the highest points in the 2006-2007 NBA season\"}', name='search_web_tool')]\n",
            "---------- ToolCallExecutionEvent (WebSearchAgent) ----------\n",
            "[FunctionExecutionResult(content='Here are the total points scored by Miami Heat players in the 2006-2007 season:\\n        Udonis Haslem: 844 points\\n        Dwayne Wade: 1397 points\\n        James Posey: 550 points\\n        ...\\n        ', name='search_web_tool', call_id='call_0_bac9e59d-a6bb-42fb-9218-1d0220d7a258', is_error=False)]\n",
            "---------- ToolCallSummaryMessage (WebSearchAgent) ----------\n",
            "Here are the total points scored by Miami Heat players in the 2006-2007 season:\n",
            "        Udonis Haslem: 844 points\n",
            "        Dwayne Wade: 1397 points\n",
            "        James Posey: 550 points\n",
            "        ...\n",
            "        \n",
            "---------- TextMessage (PlanningAgent) ----------\n",
            "Based on this information, we can proceed with the next steps since Dwyane Wade was clearly the Miami Heat player with the highest points (1397) in the 2006-2007 season.\n",
            "\n",
            "Here's the updated plan:\n",
            "\n",
            "1. WebSearchAgent : Find Dwyane Wade's total rebounds in the 2007-2008 NBA season\n",
            "2. WebSearchAgent : Find Dwyane Wade's total rebounds in the 2008-2009 NBA season\n",
            "3. DataAnalystAgent : Calculate the percentage change in rebounds between these two seasons\n",
            "\n",
            "Would you like me to proceed with these tasks?\n",
            "---------- ThoughtEvent (WebSearchAgent) ----------\n",
            "Yes, please proceed with the next tasks to find Dwyane Wade's total rebounds for the 2007-2008 and 2008-2009 seasons.\n",
            "---------- ToolCallRequestEvent (WebSearchAgent) ----------\n",
            "[FunctionCall(id='call_0_f80f8155-a463-4288-a885-4a551b4e4280', arguments='{\"query\":\"Dwyane Wade total rebounds in the 2007-2008 NBA season\"}', name='search_web_tool'), FunctionCall(id='call_1_c6fe086e-78a7-474e-9683-97be0dbb18d8', arguments='{\"query\":\"Dwyane Wade total rebounds in the 2008-2009 NBA season\"}', name='search_web_tool')]\n",
            "---------- ToolCallExecutionEvent (WebSearchAgent) ----------\n",
            "[FunctionExecutionResult(content='The number of total rebounds for Dwayne Wade in the Miami Heat season 2007-2008 is 214.', name='search_web_tool', call_id='call_0_f80f8155-a463-4288-a885-4a551b4e4280', is_error=False), FunctionExecutionResult(content='The number of total rebounds for Dwayne Wade in the Miami Heat season 2008-2009 is 398.', name='search_web_tool', call_id='call_1_c6fe086e-78a7-474e-9683-97be0dbb18d8', is_error=False)]\n",
            "---------- ToolCallSummaryMessage (WebSearchAgent) ----------\n",
            "The number of total rebounds for Dwayne Wade in the Miami Heat season 2007-2008 is 214.\n",
            "The number of total rebounds for Dwayne Wade in the Miami Heat season 2008-2009 is 398.\n",
            "---------- TextMessage (PlanningAgent) ----------\n",
            "Now we have all the necessary data to complete the task. Here's the final step:  \n",
            "\n",
            "1. **DataAnalystAgent**: Calculate the percentage change in Dwyane Wade's total rebounds between the 2007-2008 (214) and 2008-2009 (398) seasons.  \n",
            "\n",
            "### **Calculation:**  \n",
            "- **Initial Value (2007-2008):** 214 rebounds  \n",
            "- **Final Value (2008-2009):** 398 rebounds  \n",
            "- **Change:** 398 - 214 = **+184 rebounds**  \n",
            "- **Percentage Change:** (184 / 214) × 100 ≈ **+85.98%**  \n",
            "\n",
            "### **Final Summary:**  \n",
            "- **Highest-scoring Miami Heat player (2006-2007):** Dwyane Wade (1,397 points)  \n",
            "- **Rebounds (2007-2008):** 214  \n",
            "- **Rebounds (2008-2009):** 398  \n",
            "- **Percentage Change in Rebounds:** **+85.98%**  \n",
            "\n",
            "**TERMINATE**\n"
          ]
        },
        {
          "data": {
            "text/plain": [
              "TaskResult(messages=[TextMessage(source='user', models_usage=None, metadata={}, content='Who was the Miami Heat player with the highest points in the 2006-2007 season, and what was the percentage change in his total rebounds between the 2007-2008 and 2008-2009 seasons?', type='TextMessage'), TextMessage(source='PlanningAgent', models_usage=RequestUsage(prompt_tokens=152, completion_tokens=136), metadata={}, content=\"Here's the plan to answer your question:\\n\\n1. WebSearchAgent : Find the Miami Heat player with the highest points in the 2006-2007 NBA season\\n2. WebSearchAgent : Find the total rebounds for this player in the 2007-2008 season\\n3. WebSearchAgent : Find the total rebounds for this player in the 2008-2009 season\\n4. DataAnalystAgent : Calculate the percentage change in rebounds between 2007-2008 and 2008-2009 seasons\\n\\nOnce we have all this information, I'll summarize the findings and terminate. \\n\\nWould you like me to proceed with this plan?\", type='TextMessage'), ThoughtEvent(source='WebSearchAgent', models_usage=None, metadata={}, content=\"Yes, please proceed with the plan. I'll start by finding the Miami Heat player with the highest points in the 2006-2007 NBA season.\", type='ThoughtEvent'), ToolCallRequestEvent(source='WebSearchAgent', models_usage=RequestUsage(prompt_tokens=347, completion_tokens=70), metadata={}, content=[FunctionCall(id='call_0_bac9e59d-a6bb-42fb-9218-1d0220d7a258', arguments='{\"query\":\"Miami Heat player with the highest points in the 2006-2007 NBA season\"}', name='search_web_tool')], type='ToolCallRequestEvent'), ToolCallExecutionEvent(source='WebSearchAgent', models_usage=None, metadata={}, content=[FunctionExecutionResult(content='Here are the total points scored by Miami Heat players in the 2006-2007 season:\\n        Udonis Haslem: 844 points\\n        Dwayne Wade: 1397 points\\n        James Posey: 550 points\\n        ...\\n        ', name='search_web_tool', call_id='call_0_bac9e59d-a6bb-42fb-9218-1d0220d7a258', is_error=False)], type='ToolCallExecutionEvent'), ToolCallSummaryMessage(source='WebSearchAgent', models_usage=None, metadata={}, content='Here are the total points scored by Miami Heat players in the 2006-2007 season:\\n        Udonis Haslem: 844 points\\n        Dwayne Wade: 1397 points\\n        James Posey: 550 points\\n        ...\\n        ', type='ToolCallSummaryMessage'), TextMessage(source='PlanningAgent', models_usage=RequestUsage(prompt_tokens=345, completion_tokens=125), metadata={}, content=\"Based on this information, we can proceed with the next steps since Dwyane Wade was clearly the Miami Heat player with the highest points (1397) in the 2006-2007 season.\\n\\nHere's the updated plan:\\n\\n1. WebSearchAgent : Find Dwyane Wade's total rebounds in the 2007-2008 NBA season\\n2. WebSearchAgent : Find Dwyane Wade's total rebounds in the 2008-2009 NBA season\\n3. DataAnalystAgent : Calculate the percentage change in rebounds between these two seasons\\n\\nWould you like me to proceed with these tasks?\", type='TextMessage'), ThoughtEvent(source='WebSearchAgent', models_usage=None, metadata={}, content=\"Yes, please proceed with the next tasks to find Dwyane Wade's total rebounds for the 2007-2008 and 2008-2009 seasons.\", type='ThoughtEvent'), ToolCallRequestEvent(source='WebSearchAgent', models_usage=RequestUsage(prompt_tokens=602, completion_tokens=105), metadata={}, content=[FunctionCall(id='call_0_f80f8155-a463-4288-a885-4a551b4e4280', arguments='{\"query\":\"Dwyane Wade total rebounds in the 2007-2008 NBA season\"}', name='search_web_tool'), FunctionCall(id='call_1_c6fe086e-78a7-474e-9683-97be0dbb18d8', arguments='{\"query\":\"Dwyane Wade total rebounds in the 2008-2009 NBA season\"}', name='search_web_tool')], type='ToolCallRequestEvent'), ToolCallExecutionEvent(source='WebSearchAgent', models_usage=None, metadata={}, content=[FunctionExecutionResult(content='The number of total rebounds for Dwayne Wade in the Miami Heat season 2007-2008 is 214.', name='search_web_tool', call_id='call_0_f80f8155-a463-4288-a885-4a551b4e4280', is_error=False), FunctionExecutionResult(content='The number of total rebounds for Dwayne Wade in the Miami Heat season 2008-2009 is 398.', name='search_web_tool', call_id='call_1_c6fe086e-78a7-474e-9683-97be0dbb18d8', is_error=False)], type='ToolCallExecutionEvent'), ToolCallSummaryMessage(source='WebSearchAgent', models_usage=None, metadata={}, content='The number of total rebounds for Dwayne Wade in the Miami Heat season 2007-2008 is 214.\\nThe number of total rebounds for Dwayne Wade in the Miami Heat season 2008-2009 is 398.', type='ToolCallSummaryMessage'), TextMessage(source='PlanningAgent', models_usage=RequestUsage(prompt_tokens=523, completion_tokens=223), metadata={}, content=\"Now we have all the necessary data to complete the task. Here's the final step:  \\n\\n1. **DataAnalystAgent**: Calculate the percentage change in Dwyane Wade's total rebounds between the 2007-2008 (214) and 2008-2009 (398) seasons.  \\n\\n### **Calculation:**  \\n- **Initial Value (2007-2008):** 214 rebounds  \\n- **Final Value (2008-2009):** 398 rebounds  \\n- **Change:** 398 - 214 = **+184 rebounds**  \\n- **Percentage Change:** (184 / 214) × 100 ≈ **+85.98%**  \\n\\n### **Final Summary:**  \\n- **Highest-scoring Miami Heat player (2006-2007):** Dwyane Wade (1,397 points)  \\n- **Rebounds (2007-2008):** 214  \\n- **Rebounds (2008-2009):** 398  \\n- **Percentage Change in Rebounds:** **+85.98%**  \\n\\n**TERMINATE**\", type='TextMessage')], stop_reason=\"Text 'TERMINATE' mentioned\")"
            ]
          },
          "execution_count": 13,
          "metadata": {},
          "output_type": "execute_result"
        }
      ],
      "source": [
        "def selector_func(messages: Sequence[BaseAgentEvent | BaseChatMessage]) -> str | None:\n",
        "    if messages[-1].source != planning_agent.name:\n",
        "        return planning_agent.name\n",
        "    return None\n",
        "\n",
        "\n",
        "# Reset the previous team and run the chat again with the selector function.\n",
        "await team.reset()\n",
        "team = SelectorGroupChat(\n",
        "    [planning_agent, web_search_agent, data_analyst_agent],\n",
        "    model_client=model_client,\n",
        "    termination_condition=termination,\n",
        "    selector_prompt=selector_prompt,\n",
        "    allow_repeated_speaker=True,\n",
        "    selector_func=selector_func,\n",
        ")\n",
        "\n",
        "await Console(team.run_stream(task=task))\n"
      ]
    },
    {
      "cell_type": "markdown",
      "metadata": {
        "id": "3xNB4fOKVwmx"
      },
      "source": [
        "# User Feedback"
      ]
    },
    {
      "cell_type": "code",
      "execution_count": null,
      "metadata": {
        "colab": {
          "base_uri": "https://localhost:8080/"
        },
        "id": "vWhR_cUuUfUh",
        "outputId": "7bb4a894-9f70-4cc3-e30b-3182c8078ebe"
      },
      "outputs": [
        {
          "name": "stdout",
          "output_type": "stream",
          "text": [
            "---------- TextMessage (user) ----------\n",
            "Who was the Miami Heat player with the highest points in the 2006-2007 season, and what was the percentage change in his total rebounds between the 2007-2008 and 2008-2009 seasons?\n",
            "---------- TextMessage (PlanningAgent) ----------\n",
            "Here's the plan to answer your question:\n",
            "\n",
            "1. WebSearchAgent : Find the Miami Heat player with the highest points in the 2006-2007 season\n",
            "2. WebSearchAgent : Find the total rebounds for this player in the 2007-2008 season\n",
            "3. WebSearchAgent : Find the total rebounds for this player in the 2008-2009 season\n",
            "4. DataAnalystAgent : Calculate the percentage change in rebounds between the 2007-2008 and 2008-2009 seasons\n",
            "\n",
            "Once we have all this information, I'll compile the final answer and terminate.\n",
            "Enter your response: APPROVE\n",
            "---------- TextMessage (UserProxyAgent) ----------\n",
            "APPROVE\n",
            "---------- ToolCallRequestEvent (WebSearchAgent) ----------\n",
            "[FunctionCall(id='call_0_e7f32a11-7f3e-4a70-adc3-6a384ae365d5', arguments='{\"query\":\"Miami Heat player with the highest points in the 2006-2007 season\"}', name='search_web_tool')]\n",
            "---------- ToolCallExecutionEvent (WebSearchAgent) ----------\n",
            "[FunctionExecutionResult(content='Here are the total points scored by Miami Heat players in the 2006-2007 season:\\n        Udonis Haslem: 844 points\\n        Dwayne Wade: 1397 points\\n        James Posey: 550 points\\n        ...\\n        ', name='search_web_tool', call_id='call_0_e7f32a11-7f3e-4a70-adc3-6a384ae365d5', is_error=False)]\n",
            "---------- ToolCallSummaryMessage (WebSearchAgent) ----------\n",
            "Here are the total points scored by Miami Heat players in the 2006-2007 season:\n",
            "        Udonis Haslem: 844 points\n",
            "        Dwayne Wade: 1397 points\n",
            "        James Posey: 550 points\n",
            "        ...\n",
            "        \n",
            "---------- TextMessage (PlanningAgent) ----------\n",
            "Based on the information provided, Dwayne Wade was the Miami Heat player with the highest points (1397) in the 2006-2007 season. Now we need to find his rebound statistics for the next two seasons.\n",
            "\n",
            "Here are the next steps:\n",
            "\n",
            "1. WebSearchAgent : Find Dwayne Wade's total rebounds in the 2007-2008 NBA season\n",
            "2. WebSearchAgent : Find Dwayne Wade's total rebounds in the 2008-2009 NBA season\n",
            "3. DataAnalystAgent : Calculate the percentage change in rebounds between these two seasons\n",
            "\n",
            "Once we have this data, I'll compile the final answer and terminate.\n",
            "Enter your response: APPROVE\n",
            "---------- TextMessage (UserProxyAgent) ----------\n",
            "APPROVE\n",
            "---------- ToolCallRequestEvent (WebSearchAgent) ----------\n",
            "[FunctionCall(id='call_0_16105a92-3134-4e5f-950f-08d1970f8bc3', arguments='{\"query\":\"Dwyane Wade total rebounds 2007-2008 NBA season\"}', name='search_web_tool'), FunctionCall(id='call_1_fadf16f5-18d9-43c9-8239-665441797b45', arguments='{\"query\":\"Dwyane Wade total rebounds 2008-2009 NBA season\"}', name='search_web_tool')]\n",
            "---------- ToolCallExecutionEvent (WebSearchAgent) ----------\n",
            "[FunctionExecutionResult(content='The number of total rebounds for Dwayne Wade in the Miami Heat season 2007-2008 is 214.', name='search_web_tool', call_id='call_0_16105a92-3134-4e5f-950f-08d1970f8bc3', is_error=False), FunctionExecutionResult(content='The number of total rebounds for Dwayne Wade in the Miami Heat season 2008-2009 is 398.', name='search_web_tool', call_id='call_1_fadf16f5-18d9-43c9-8239-665441797b45', is_error=False)]\n",
            "---------- ToolCallSummaryMessage (WebSearchAgent) ----------\n",
            "The number of total rebounds for Dwayne Wade in the Miami Heat season 2007-2008 is 214.\n",
            "The number of total rebounds for Dwayne Wade in the Miami Heat season 2008-2009 is 398.\n",
            "---------- TextMessage (PlanningAgent) ----------\n",
            "Now we have all the necessary data to calculate the percentage change in rebounds. Here's the final step:\n",
            "\n",
            "1. DataAnalystAgent : Calculate the percentage change in rebounds from 214 (2007-2008) to 398 (2008-2009)\n",
            "\n",
            "The calculation is as follows:\n",
            "- Change = New Value - Old Value = 398 - 214 = 184\n",
            "- Percentage Change = (Change / Old Value) × 100 = (184 / 214) × 100 ≈ 85.98%\n",
            "\n",
            "Final Answer:\n",
            "- The Miami Heat player with the highest points in 2006-2007 was Dwyane Wade (1397 points).\n",
            "- His rebounds increased by approximately 85.98% between the 2007-2008 (214 rebounds) and 2008-2009 (398 rebounds) seasons.\n",
            "\n",
            "TERMINATE\n"
          ]
        },
        {
          "data": {
            "text/plain": [
              "TaskResult(messages=[TextMessage(source='user', models_usage=None, metadata={}, content='Who was the Miami Heat player with the highest points in the 2006-2007 season, and what was the percentage change in his total rebounds between the 2007-2008 and 2008-2009 seasons?', type='TextMessage'), TextMessage(source='PlanningAgent', models_usage=RequestUsage(prompt_tokens=152, completion_tokens=126), metadata={}, content=\"Here's the plan to answer your question:\\n\\n1. WebSearchAgent : Find the Miami Heat player with the highest points in the 2006-2007 season\\n2. WebSearchAgent : Find the total rebounds for this player in the 2007-2008 season\\n3. WebSearchAgent : Find the total rebounds for this player in the 2008-2009 season\\n4. DataAnalystAgent : Calculate the percentage change in rebounds between the 2007-2008 and 2008-2009 seasons\\n\\nOnce we have all this information, I'll compile the final answer and terminate.\", type='TextMessage'), UserInputRequestedEvent(source='UserProxyAgent', models_usage=None, metadata={}, request_id='f33b257a-1c6d-4aea-a326-5cfca6352a4d', content='', type='UserInputRequestedEvent'), TextMessage(source='UserProxyAgent', models_usage=None, metadata={}, content='APPROVE', type='TextMessage'), ToolCallRequestEvent(source='WebSearchAgent', models_usage=RequestUsage(prompt_tokens=340, completion_tokens=37), metadata={}, content=[FunctionCall(id='call_0_e7f32a11-7f3e-4a70-adc3-6a384ae365d5', arguments='{\"query\":\"Miami Heat player with the highest points in the 2006-2007 season\"}', name='search_web_tool')], type='ToolCallRequestEvent'), ToolCallExecutionEvent(source='WebSearchAgent', models_usage=None, metadata={}, content=[FunctionExecutionResult(content='Here are the total points scored by Miami Heat players in the 2006-2007 season:\\n        Udonis Haslem: 844 points\\n        Dwayne Wade: 1397 points\\n        James Posey: 550 points\\n        ...\\n        ', name='search_web_tool', call_id='call_0_e7f32a11-7f3e-4a70-adc3-6a384ae365d5', is_error=False)], type='ToolCallExecutionEvent'), ToolCallSummaryMessage(source='WebSearchAgent', models_usage=None, metadata={}, content='Here are the total points scored by Miami Heat players in the 2006-2007 season:\\n        Udonis Haslem: 844 points\\n        Dwayne Wade: 1397 points\\n        James Posey: 550 points\\n        ...\\n        ', type='ToolCallSummaryMessage'), TextMessage(source='PlanningAgent', models_usage=RequestUsage(prompt_tokens=339, completion_tokens=136), metadata={}, content=\"Based on the information provided, Dwayne Wade was the Miami Heat player with the highest points (1397) in the 2006-2007 season. Now we need to find his rebound statistics for the next two seasons.\\n\\nHere are the next steps:\\n\\n1. WebSearchAgent : Find Dwayne Wade's total rebounds in the 2007-2008 NBA season\\n2. WebSearchAgent : Find Dwayne Wade's total rebounds in the 2008-2009 NBA season\\n3. DataAnalystAgent : Calculate the percentage change in rebounds between these two seasons\\n\\nOnce we have this data, I'll compile the final answer and terminate.\", type='TextMessage'), UserInputRequestedEvent(source='UserProxyAgent', models_usage=None, metadata={}, request_id='669aba3b-eae3-4614-8426-472848692a53', content='', type='UserInputRequestedEvent'), TextMessage(source='UserProxyAgent', models_usage=None, metadata={}, content='APPROVE', type='TextMessage'), ToolCallRequestEvent(source='WebSearchAgent', models_usage=RequestUsage(prompt_tokens=576, completion_tokens=67), metadata={}, content=[FunctionCall(id='call_0_16105a92-3134-4e5f-950f-08d1970f8bc3', arguments='{\"query\":\"Dwyane Wade total rebounds 2007-2008 NBA season\"}', name='search_web_tool'), FunctionCall(id='call_1_fadf16f5-18d9-43c9-8239-665441797b45', arguments='{\"query\":\"Dwyane Wade total rebounds 2008-2009 NBA season\"}', name='search_web_tool')], type='ToolCallRequestEvent'), ToolCallExecutionEvent(source='WebSearchAgent', models_usage=None, metadata={}, content=[FunctionExecutionResult(content='The number of total rebounds for Dwayne Wade in the Miami Heat season 2007-2008 is 214.', name='search_web_tool', call_id='call_0_16105a92-3134-4e5f-950f-08d1970f8bc3', is_error=False), FunctionExecutionResult(content='The number of total rebounds for Dwayne Wade in the Miami Heat season 2008-2009 is 398.', name='search_web_tool', call_id='call_1_fadf16f5-18d9-43c9-8239-665441797b45', is_error=False)], type='ToolCallExecutionEvent'), ToolCallSummaryMessage(source='WebSearchAgent', models_usage=None, metadata={}, content='The number of total rebounds for Dwayne Wade in the Miami Heat season 2007-2008 is 214.\\nThe number of total rebounds for Dwayne Wade in the Miami Heat season 2008-2009 is 398.', type='ToolCallSummaryMessage'), TextMessage(source='PlanningAgent', models_usage=RequestUsage(prompt_tokens=532, completion_tokens=175), metadata={}, content=\"Now we have all the necessary data to calculate the percentage change in rebounds. Here's the final step:\\n\\n1. DataAnalystAgent : Calculate the percentage change in rebounds from 214 (2007-2008) to 398 (2008-2009)\\n\\nThe calculation is as follows:\\n- Change = New Value - Old Value = 398 - 214 = 184\\n- Percentage Change = (Change / Old Value) × 100 = (184 / 214) × 100 ≈ 85.98%\\n\\nFinal Answer:\\n- The Miami Heat player with the highest points in 2006-2007 was Dwyane Wade (1397 points).\\n- His rebounds increased by approximately 85.98% between the 2007-2008 (214 rebounds) and 2008-2009 (398 rebounds) seasons.\\n\\nTERMINATE\", type='TextMessage')], stop_reason=\"Text 'TERMINATE' mentioned\")"
            ]
          },
          "execution_count": 14,
          "metadata": {},
          "output_type": "execute_result"
        }
      ],
      "source": [
        "user_proxy_agent = UserProxyAgent(\"UserProxyAgent\", description=\"A proxy for the user to approve or disapprove tasks.\")\n",
        "\n",
        "\n",
        "def selector_func_with_user_proxy(messages: Sequence[BaseAgentEvent | BaseChatMessage]) -> str | None:\n",
        "    if messages[-1].source != planning_agent.name and messages[-1].source != user_proxy_agent.name:\n",
        "        # Planning agent should be the first to engage when given a new task, or check progress.\n",
        "        return planning_agent.name\n",
        "    if messages[-1].source == planning_agent.name:\n",
        "        if messages[-2].source == user_proxy_agent.name and \"APPROVE\" in messages[-1].content.upper():  # type: ignore\n",
        "            # User has approved the plan, proceed to the next agent.\n",
        "            return None\n",
        "        # Use the user proxy agent to get the user's approval to proceed.\n",
        "        return user_proxy_agent.name\n",
        "    if messages[-1].source == user_proxy_agent.name:\n",
        "        # If the user does not approve, return to the planning agent.\n",
        "        if \"APPROVE\" not in messages[-1].content.upper():  # type: ignore\n",
        "            return planning_agent.name\n",
        "    return None\n",
        "\n",
        "\n",
        "# Reset the previous agents and run the chat again with the user proxy agent and selector function.\n",
        "await team.reset()\n",
        "team = SelectorGroupChat(\n",
        "    [planning_agent, web_search_agent, data_analyst_agent, user_proxy_agent],\n",
        "    model_client=model_client,\n",
        "    termination_condition=termination,\n",
        "    selector_prompt=selector_prompt,\n",
        "    selector_func=selector_func_with_user_proxy,\n",
        "    allow_repeated_speaker=True,\n",
        ")\n",
        "\n",
        "await Console(team.run_stream(task=task))\n"
      ]
    },
    {
      "cell_type": "markdown",
      "metadata": {
        "id": "UUcvMit3ZxEF"
      },
      "source": [
        "# Using Reasoning Models"
      ]
    },
    {
      "cell_type": "code",
      "execution_count": null,
      "metadata": {
        "colab": {
          "base_uri": "https://localhost:8080/"
        },
        "id": "e5xlTPuea7CH",
        "outputId": "f3f98910-e398-4081-c77a-e866250dc705"
      },
      "outputs": [
        {
          "name": "stderr",
          "output_type": "stream",
          "text": [
            "/usr/local/lib/python3.11/dist-packages/autogen_ext/models/openai/_openai_client.py:413: UserWarning: Missing required field 'structured_output' in ModelInfo. This field will be required in a future version of AutoGen.\n",
            "  validate_model_info(self._model_info)\n"
          ]
        }
      ],
      "source": [
        "model_client = OpenAIChatCompletionClient(\n",
        "        model=\"deepseek-reasoner\",\n",
        "        temperature=0.85,\n",
        "        api_key=userdata.get('DEEPSEEK_API_KEY'),\n",
        "        base_url=\"https://api.deepseek.com/v1\",\n",
        "        model_info={\n",
        "            \"model_name\": \"deepseek-reasoner\",\n",
        "            \"api_type\": \"openai\",\n",
        "            \"vendor\": \"deepseek\",\n",
        "            \"json_output\": False,\n",
        "            \"vision\": False,\n",
        "            \"function_calling\": True,\n",
        "            \"function_call\": False,\n",
        "            \"streaming\": True,\n",
        "            \"cost_per_token\": 0,\n",
        "            \"family\": \"deepseek\",\n",
        "        }\n",
        "    )"
      ]
    },
    {
      "cell_type": "code",
      "execution_count": null,
      "metadata": {
        "id": "8Emvfy8SWhu9"
      },
      "outputs": [],
      "source": [
        "#model_client = OpenAIChatCompletionClient(model=\"o3-mini\",api_key=userdata.get(\"OPENAI_API_KEY\"))\n",
        "\n",
        "web_search_agent = AssistantAgent(\n",
        "    \"WebSearchAgent\",\n",
        "    description=\"An agent for searching information on the web.\",\n",
        "    tools=[search_web_tool],\n",
        "    model_client=model_client,\n",
        "    system_message=\"\"\"Use web search tool to find information.\"\"\",\n",
        ")\n",
        "\n",
        "data_analyst_agent = AssistantAgent(\n",
        "    \"DataAnalystAgent\",\n",
        "    description=\"An agent for performing calculations.\",\n",
        "    model_client=model_client,\n",
        "    tools=[percentage_change_tool],\n",
        "    system_message=\"\"\"Use tool to perform calculation. If you have not seen the data, ask for it.\"\"\",\n",
        ")\n",
        "\n",
        "user_proxy_agent = UserProxyAgent(\n",
        "    \"UserProxyAgent\",\n",
        "    description=\"A user to approve or disapprove tasks.\",\n",
        ")\n",
        "\n",
        "selector_prompt = \"\"\"Select an agent to perform task.\n",
        "\n",
        "{roles}\n",
        "\n",
        "Current conversation context:\n",
        "{history}\n",
        "\n",
        "Read the above conversation, then select an agent from {participants} to perform the next task.\n",
        "When the task is complete, let the user approve or disapprove the task.\n",
        "\"\"\"\n",
        "\n",
        "team = SelectorGroupChat(\n",
        "    [web_search_agent, data_analyst_agent, user_proxy_agent],\n",
        "    model_client=model_client,\n",
        "    termination_condition=termination,  # Use the same termination condition as before.\n",
        "    selector_prompt=selector_prompt,\n",
        "    allow_repeated_speaker=True,\n",
        ")\n"
      ]
    },
    {
      "cell_type": "code",
      "execution_count": null,
      "metadata": {
        "colab": {
          "background_save": true,
          "base_uri": "https://localhost:8080/"
        },
        "id": "7ss_4VSHYOCF",
        "outputId": "3698da7a-851d-4877-8133-edc52fa3ff09"
      },
      "outputs": [
        {
          "name": "stderr",
          "output_type": "stream",
          "text": [
            "WARNING:autogen_agentchat:Model failed to select a speaker after 3 and there was no previous speaker, using the first participant.\n"
          ]
        },
        {
          "name": "stdout",
          "output_type": "stream",
          "text": [
            "---------- TextMessage (user) ----------\n",
            "Who was the Miami Heat player with the highest points in the 2006-2007 season, and what was the percentage change in his total rebounds between the 2007-2008 and 2008-2009 seasons?\n",
            "---------- ThoughtEvent (WebSearchAgent) ----------\n",
            "I'll help you find the answer to your question by breaking it down into steps. Let's start by identifying the Miami Heat player with the highest points in the 2006-2007 season.\n",
            "---------- ToolCallRequestEvent (WebSearchAgent) ----------\n",
            "[FunctionCall(id='call_0_916c6066-74e2-45af-b8df-1a380e34f44c', arguments='{\"query\": \"Miami Heat 2006-2007 season leading scorer\"}', name='search_web_tool')]\n",
            "---------- ToolCallExecutionEvent (WebSearchAgent) ----------\n",
            "[FunctionExecutionResult(content='Here are the total points scored by Miami Heat players in the 2006-2007 season:\\n        Udonis Haslem: 844 points\\n        Dwayne Wade: 1397 points\\n        James Posey: 550 points\\n        ...\\n        ', name='search_web_tool', call_id='call_0_916c6066-74e2-45af-b8df-1a380e34f44c', is_error=False)]\n",
            "---------- ToolCallSummaryMessage (WebSearchAgent) ----------\n",
            "Here are the total points scored by Miami Heat players in the 2006-2007 season:\n",
            "        Udonis Haslem: 844 points\n",
            "        Dwayne Wade: 1397 points\n",
            "        James Posey: 550 points\n",
            "        ...\n",
            "        \n",
            "---------- ThoughtEvent (WebSearchAgent) ----------\n",
            "Based on the search results, Dwyane Wade was the Miami Heat's leading scorer in the 2006-2007 season with 1,397 points. Now I'll find his rebound statistics for the subsequent seasons:\n",
            "---------- ToolCallRequestEvent (WebSearchAgent) ----------\n",
            "[FunctionCall(id='call_0_e079b8b8-948b-4289-bfcb-7546aaf08e43', arguments='{\"query\":\"Dwyane Wade rebounds 2007-2008 season\"}', name='search_web_tool'), FunctionCall(id='call_1_a758b1db-2441-4329-989d-f1d5e304f86a', arguments='{\"query\":\"Dwyane Wade rebounds 2008-2009 season\"}', name='search_web_tool')]\n",
            "---------- ToolCallExecutionEvent (WebSearchAgent) ----------\n",
            "[FunctionExecutionResult(content='The number of total rebounds for Dwayne Wade in the Miami Heat season 2007-2008 is 214.', name='search_web_tool', call_id='call_0_e079b8b8-948b-4289-bfcb-7546aaf08e43', is_error=False), FunctionExecutionResult(content='The number of total rebounds for Dwayne Wade in the Miami Heat season 2008-2009 is 398.', name='search_web_tool', call_id='call_1_a758b1db-2441-4329-989d-f1d5e304f86a', is_error=False)]\n",
            "---------- ToolCallSummaryMessage (WebSearchAgent) ----------\n",
            "The number of total rebounds for Dwayne Wade in the Miami Heat season 2007-2008 is 214.\n",
            "The number of total rebounds for Dwayne Wade in the Miami Heat season 2008-2009 is 398.\n"
          ]
        },
        {
          "name": "stderr",
          "output_type": "stream",
          "text": [
            "WARNING:autogen_agentchat:Model failed to select a speaker after 3, using the previous speaker.\n"
          ]
        },
        {
          "name": "stdout",
          "output_type": "stream",
          "text": [
            "---------- ThoughtEvent (WebSearchAgent) ----------\n",
            "We have the following information:\n",
            " - For the 2006-2007 season, Dwyane Wade was the leading scorer for the Miami Heat with 1397 points.\n",
            " - For the 2007-2008 season, Dwyane Wade had 214 total rebounds.\n",
            " - For the 2008-2009 season, Dwyane Wade had 398 total rebounds.\n",
            "\n",
            " Now, we need to calculate the percentage change in his total rebounds between the 2007-2008 and 2008-2009 seasons.\n",
            "\n",
            " The formula for percentage change is:\n",
            "   Percentage Change = [(New Value - Old Value) / Old Value] * 100\n",
            "\n",
            " Here:\n",
            "   Old Value = 214 (2007-2008 season)\n",
            "   New Value = 398 (2008-2009 season)\n",
            "\n",
            " Let's compute:\n",
            "   Change = 398 - 214 = 184\n",
            "   Percentage Change = (184 / 214) * 100\n",
            "\n",
            " Calculating:\n",
            "   184 / 214 ≈ 0.8598\n",
            "   0.8598 * 100 ≈ 85.98%\n",
            "\n",
            " Therefore, the percentage change is approximately 85.98%.\n",
            "\n",
            " Answer:\n",
            "   The player with the highest points in the 2006-2007 season for the Miami Heat was Dwyane Wade.\n",
            "   The percentage change in his total rebounds from the 2007-2008 season to the 2008-2009 season was approximately 85.98%.\n",
            "---------- TextMessage (WebSearchAgent) ----------\n",
            "Based on the information gathered:\n",
            "\n",
            "1. **Leading Scorer in 2006-2007 Season**: Dwyane Wade was the Miami Heat player with the highest points during the 2006-2007 season, scoring 1,397 points.\n",
            "\n",
            "2. **Rebound Statistics**:\n",
            "   - **2007-2008 Season**: 214 total rebounds\n",
            "   - **2008-2009 Season**: 398 total rebounds\n",
            "\n",
            "3. **Percentage Change in Rebounds**:\n",
            "   - Change in rebounds = 398 - 214 = 184\n",
            "   - Percentage change = (184 / 214) × 100 ≈ **85.98%**\n",
            "\n",
            "**Final Answer**:  \n",
            "Dwyane Wade was the Miami Heat's leading scorer in the 2006-2007 season. His total rebounds increased by approximately **85.98%** from the 2007-2008 season (214 rebounds) to the 2008-2009 season (398 rebounds).\n"
          ]
        }
      ],
      "source": [
        "await Console(team.run_stream(task=task))"
      ]
    },
    {
      "cell_type": "code",
      "execution_count": null,
      "metadata": {
        "id": "o0SWTBtiYSV8"
      },
      "outputs": [],
      "source": []
    }
  ],
  "metadata": {
    "colab": {
      "provenance": [],
      "authorship_tag": "ABX9TyNy0yxm497148Bh2W7bWMg4",
      "include_colab_link": true
    },
    "kernelspec": {
      "display_name": "Python 3",
      "name": "python3"
    },
    "language_info": {
      "name": "python"
    }
  },
  "nbformat": 4,
  "nbformat_minor": 0
}