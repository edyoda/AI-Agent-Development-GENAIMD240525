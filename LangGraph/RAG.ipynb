{
 "cells": [
  {
   "cell_type": "code",
   "execution_count": null,
   "id": "7f971222",
   "metadata": {},
   "outputs": [],
   "source": [
    "from typing_extensions import TypedDict\n",
    "\n",
    "\n",
    "class GraphState(TypedDict):\n",
    "    question: str\n",
    "    vectordb_status_flag: str\n",
    "    context: list\n",
    "    response: str\n"
   ]
  },
  {
   "cell_type": "code",
   "execution_count": null,
   "id": "095c9131",
   "metadata": {},
   "outputs": [],
   "source": [
    "import os\n",
    "from langchain_chroma import Chroma\n",
    "from langchain_community.document_loaders import TextLoader\n",
    "from langchain.text_splitter import CharacterTextSplitter\n",
    "\n",
    "from langchain.chains.question_answering import load_qa_chain\n",
    "\n",
    "from model_inference import embed_model, llm\n",
    "\n",
    "\n",
    "def validate_database(state):\n",
    "    \"\"\"\n",
    "    Validates the database state to ensure it is ready.\n",
    "    \n",
    "    Args:\n",
    "        state (GraphState): The state of the graph database.\n",
    "    \n",
    "    Returns:\n",
    "        update vectordb_status_flag\n",
    "    \"\"\"\n",
    "\n",
    "    print(\"Validating database state...\")\n",
    "    persist_directory = os.path.join(os.getcwd(), \"database\", \"chromadb\")\n",
    "\n",
    "    vector_store = Chroma(\n",
    "        collection_name=\"example_collection\",\n",
    "        embedding_function=embed_model,\n",
    "        persist_directory=persist_directory,  # Where to save data locally, remove if not necessary\n",
    "    )\n",
    "\n",
    "\n",
    "    all_ids = vector_store.get()[\"ids\"]\n",
    "\n",
    "    if len(all_ids) > 0:\n",
    "        print(\"Database already prepared, skipping preparation.\")\n",
    "        return {\"vectordb_status_flag\": \"true\"}\n",
    "    \n",
    "    return {\"vectordb_status_flag\": \"false\"}\n",
    "\n",
    "\n",
    "\n",
    "def prepare_database(state):\n",
    "    \"\"\"\n",
    "    Prepares the database for use by validating its state.\n",
    "    \n",
    "    Args:\n",
    "        state (GraphState): The state of the graph database.\n",
    "    \n",
    "    Returns:\n",
    "        GraphState: The updated state of the graph database.\n",
    "    \"\"\"\n",
    "    \n",
    "    print(\"Preparing database...\")\n",
    "    try:\n",
    "        persist_directory = os.path.join(os.getcwd(), \"database\", \"chromadb\")\n",
    "\n",
    "        vector_store = Chroma(\n",
    "            collection_name=\"example_collection\",\n",
    "            embedding_function=embed_model,\n",
    "            persist_directory=persist_directory,  # Where to save data locally, remove if not necessary\n",
    "        )\n",
    "        \n",
    "        # Load and chunk documents\n",
    "        loader = TextLoader(\"database/sample_doc.txt\")\n",
    "        documents = loader.load()\n",
    "        text_splitter = CharacterTextSplitter(chunk_size=500, chunk_overlap=20)\n",
    "        texts = text_splitter.split_documents(documents)\n",
    "\n",
    "\n",
    "        vector_store.add_documents(texts)\n",
    "\n",
    "        print(\"Database prepared successfully.\")\n",
    "        status = \"true\"\n",
    "    except Exception as e:\n",
    "        print(f\"Error preparing database: {e}\")\n",
    "        status = \"false\"\n",
    "    \n",
    "    return {\"vectordb_status_flag\": status}\n",
    "\n",
    "\n",
    "\n",
    "def retrieve_context(state):\n",
    "    \"\"\"\n",
    "    Retrieves context from the graph database based on the current state.\n",
    "    \n",
    "    Args:\n",
    "        state (GraphState): The state of the graph database.\n",
    "    \n",
    "    Returns:\n",
    "        str: The context retrieved from the graph database.\n",
    "    \"\"\"\n",
    "    \n",
    "    print(\"Retrieving context...\")\n",
    "    question = state[\"question\"]\n",
    "\n",
    "\n",
    "    persist_directory = os.path.join(os.getcwd(), \"database\", \"chromadb\")\n",
    "    vector_store = Chroma(\n",
    "            collection_name=\"example_collection\",\n",
    "            embedding_function=embed_model,\n",
    "            persist_directory=persist_directory,  # Where to save data locally, remove if not necessary\n",
    "        )\n",
    "    \n",
    "    # retrieved_documents = vector_store.similarity_search_with_relevance_scores(query=question, k=5)\n",
    "    retriver = vector_store.as_retriever(search_type = \"similarity_score_threshold\", search_kwargs={\"k\": 5, \"score_threshold\": 0.5})\n",
    "    relevant_doc = retriver.get_relevant_documents(question)\n",
    "\n",
    "    return {\"context\": relevant_doc}\n",
    "\n",
    "\n",
    "def generate_response(state):\n",
    "    \"\"\"\n",
    "    Generates a response based on the current state of the graph database.\n",
    "    \n",
    "    Args:\n",
    "        state (GraphState): The state of the graph database.\n",
    "    \n",
    "    Returns:\n",
    "        str: The generated response.\n",
    "    \"\"\"\n",
    "    \n",
    "    print(\"Generating response...\")\n",
    "\n",
    "    question = state.get(\"question\", \"\")\n",
    "    context = state.get(\"context\", \"\")\n",
    "\n",
    "\n",
    "    chain = load_qa_chain(llm, chain_type=\"stuff\")\n",
    "\n",
    "    # response = chain.run(input_documents = context, question=question)\n",
    "    response = chain.invoke({\"input_documents\": context, \"question\": question})\n",
    "\n",
    "    return {\"response\": response[\"output_text\"]}\n",
    "\n",
    "# prompt | llm | parser"
   ]
  },
  {
   "cell_type": "code",
   "execution_count": 93,
   "id": "383efa73",
   "metadata": {},
   "outputs": [],
   "source": [
    "def route_question(state):\n",
    "    \"\"\"\n",
    "    Routes the question to the appropriate function based on the current state.\n",
    "    \n",
    "    Args:\n",
    "        state (GraphState): The state of the graph database.\n",
    "    \n",
    "    Returns:\n",
    "        str: The response generated based on the routed question.\n",
    "    \"\"\"\n",
    "    \n",
    "    print(\"Routing question...\")\n",
    "\n",
    "    vectordb_status_flag = state.get(\"vectordb_status_flag\", \"false\")\n",
    "\n",
    "    if vectordb_status_flag == \"false\":\n",
    "        return 'prepare_database'\n",
    "    \n",
    "    else:\n",
    "        return \"retrieve_context\""
   ]
  },
  {
   "cell_type": "code",
   "execution_count": 94,
   "id": "2e3a0147",
   "metadata": {},
   "outputs": [],
   "source": [
    "from langgraph.graph import END, StateGraph\n",
    "\n",
    "\n",
    "workflow = StateGraph(GraphState)\n",
    "\n",
    "\n",
    "workflow.add_node(\"validate_database\", validate_database)\n",
    "workflow.add_node(\"prepare_database\", prepare_database)\n",
    "workflow.add_node(\"retrieve_context\", retrieve_context)\n",
    "workflow.add_node(\"generate_response\", generate_response)\n",
    "\n",
    "workflow.set_entry_point(\"validate_database\")\n",
    "\n",
    "\n",
    "workflow.add_conditional_edges(\n",
    "    \"validate_database\",\n",
    "    route_question,\n",
    "    {\n",
    "        \"prepare_database\": \"prepare_database\",\n",
    "        \"retrieve_context\": \"retrieve_context\"\n",
    "    },\n",
    ")\n",
    "\n",
    "workflow.add_edge(\"prepare_database\", \"retrieve_context\")\n",
    "workflow.add_edge(\"retrieve_context\", \"generate_response\")\n",
    "workflow.add_edge(\"generate_response\", END)\n",
    "\n",
    "\n",
    "graph = workflow.compile()"
   ]
  },
  {
   "cell_type": "code",
   "execution_count": 95,
   "id": "4c4e4a61",
   "metadata": {},
   "outputs": [
    {
     "data": {
      "image/png": "[encoded data removed]",
      "text/plain": [
       "<langgraph.graph.state.CompiledStateGraph object at 0x110658d10>"
      ]
     },
     "execution_count": 95,
     "metadata": {},
     "output_type": "execute_result"
    }
   ],
   "source": [
    "graph"
   ]
  },
  {
   "cell_type": "code",
   "execution_count": 98,
   "id": "1bba3126",
   "metadata": {},
   "outputs": [
    {
     "name": "stdout",
     "output_type": "stream",
     "text": [
      "Validating database state...\n",
      "Routing question...\n",
      "Preparing database...\n",
      "Database already prepared, skipping preparation.\n",
      "Retrieving context...\n",
      "[Document(id='470bd9bd-8e3b-425e-8102-bc56b029b93b', metadata={'source': 'database/sample_doc.txt'}, page_content='In public policy and military strategy, generalists are typically preferred in leadership positions, where the ability to synthesize diverse information and make decisions across domains is crucial.'), Document(id='4687dea9-70e7-4c93-9acc-723e5cc7cc9c', metadata={'source': 'database/sample_doc.txt'}, page_content='In public policy and military strategy, generalists are typically preferred in leadership positions, where the ability to synthesize diverse information and make decisions across domains is crucial.'), Document(id='da58ae58-26ef-48a0-a773-0dfdbab4c626', metadata={'source': 'database/sample_doc.txt'}, page_content='Generalists are often better prepared to navigate unpredictable changes in the job market or technology landscape. Their learning agility allows them to pivot between roles and acquire new skills more readily than specialists tethered to a single domain.'), Document(id='6b691207-7c92-4a30-8a66-c37ef5070136', metadata={'source': 'database/sample_doc.txt'}, page_content='Generalists are often better prepared to navigate unpredictable changes in the job market or technology landscape. Their learning agility allows them to pivot between roles and acquire new skills more readily than specialists tethered to a single domain.'), Document(id='184bda1e-6153-4345-85e5-d3c84105c036', metadata={'source': 'database/sample_doc.txt'}, page_content='Specialisation vs Generalist: A Comprehensive Comparative Study\\nI. Introduction\\nIn today’s interconnected and rapidly evolving world, the debate between being a specialist or a generalist has become increasingly relevant. A specialist is defined as an individual who possesses deep knowledge and expertise in a narrowly defined domain. In contrast, a generalist is someone who has a broad set of skills and knowledge spanning multiple fields, often without in-depth mastery in any one of them.')]\n",
      "Generating response...\n"
     ]
    }
   ],
   "source": [
    "output = graph.invoke(\n",
    "    {\n",
    "        \"question\": \"who is a generalist?\",\n",
    "    }\n",
    ")"
   ]
  },
  {
   "cell_type": "code",
   "execution_count": 100,
   "id": "534b81d2",
   "metadata": {},
   "outputs": [
    {
     "data": {
      "text/plain": [
       "'A generalist is someone who has a broad set of skills and knowledge spanning multiple fields, often without in-depth mastery in any one of them. Generalists are typically preferred in leadership positions in public policy and military strategy due to their ability to synthesize diverse information and make decisions across various domains. They are also often better prepared to navigate unpredictable changes in the job market or technology landscape, as their learning agility allows them to pivot between roles and acquire new skills more readily than specialists.'"
      ]
     },
     "execution_count": 100,
     "metadata": {},
     "output_type": "execute_result"
    }
   ],
   "source": [
    "output[\"response\"]  # Access the response from the output dictionary"
   ]
  },
  {
   "cell_type": "code",
   "execution_count": 89,
   "id": "3c167509",
   "metadata": {},
   "outputs": [],
   "source": [
    "## integrating langfuse"
   ]
  },
  {
   "cell_type": "code",
   "execution_count": null,
   "id": "270ed03a",
   "metadata": {},
   "outputs": [],
   "source": [
    "from langfuse import Langfuse\n",
    "from langfuse.langchain import CallbackHandler\n",
    "\n",
    "langfuse = Langfuse(\n",
    "    public_key=\"your-public-key\",\n",
    "    secret_key=\"your-secret-key\",\n",
    "    host=\"https://cloud.langfuse.com\"\n",
    ")\n",
    "langfuse_handler = CallbackHandler()\n"
   ]
  },
  {
   "cell_type": "code",
   "execution_count": 101,
   "id": "1c544d91",
   "metadata": {},
   "outputs": [
    {
     "name": "stdout",
     "output_type": "stream",
     "text": [
      "Validating database state...\n",
      "Routing question...\n",
      "Preparing database...\n",
      "Database already prepared, skipping preparation.\n",
      "Retrieving context...\n",
      "[Document(id='470bd9bd-8e3b-425e-8102-bc56b029b93b', metadata={'source': 'database/sample_doc.txt'}, page_content='In public policy and military strategy, generalists are typically preferred in leadership positions, where the ability to synthesize diverse information and make decisions across domains is crucial.'), Document(id='4687dea9-70e7-4c93-9acc-723e5cc7cc9c', metadata={'source': 'database/sample_doc.txt'}, page_content='In public policy and military strategy, generalists are typically preferred in leadership positions, where the ability to synthesize diverse information and make decisions across domains is crucial.'), Document(id='da58ae58-26ef-48a0-a773-0dfdbab4c626', metadata={'source': 'database/sample_doc.txt'}, page_content='Generalists are often better prepared to navigate unpredictable changes in the job market or technology landscape. Their learning agility allows them to pivot between roles and acquire new skills more readily than specialists tethered to a single domain.'), Document(id='6b691207-7c92-4a30-8a66-c37ef5070136', metadata={'source': 'database/sample_doc.txt'}, page_content='Generalists are often better prepared to navigate unpredictable changes in the job market or technology landscape. Their learning agility allows them to pivot between roles and acquire new skills more readily than specialists tethered to a single domain.'), Document(id='184bda1e-6153-4345-85e5-d3c84105c036', metadata={'source': 'database/sample_doc.txt'}, page_content='Specialisation vs Generalist: A Comprehensive Comparative Study\\nI. Introduction\\nIn today’s interconnected and rapidly evolving world, the debate between being a specialist or a generalist has become increasingly relevant. A specialist is defined as an individual who possesses deep knowledge and expertise in a narrowly defined domain. In contrast, a generalist is someone who has a broad set of skills and knowledge spanning multiple fields, often without in-depth mastery in any one of them.')]\n",
      "Generating response...\n"
     ]
    }
   ],
   "source": [
    "output = graph.invoke(\n",
    "    {\n",
    "        \"question\": \"who is a generalist?\",\n",
    "    },\n",
    "     config={\"callbacks\": [langfuse_handler]}\n",
    ")"
   ]
  },
  {
   "cell_type": "code",
   "execution_count": 102,
   "id": "847920cb",
   "metadata": {},
   "outputs": [
    {
     "data": {
      "text/plain": [
       "'A generalist is someone who has a broad set of skills and knowledge spanning multiple fields, often without in-depth mastery in any one of them. Generalists are typically preferred in leadership positions in public policy and military strategy due to their ability to synthesize diverse information and make decisions across various domains. They are also often better prepared to navigate unpredictable changes in the job market or technology landscape.'"
      ]
     },
     "execution_count": 102,
     "metadata": {},
     "output_type": "execute_result"
    }
   ],
   "source": [
    "output[\"response\"]  # Access the response from the output dictionary"
   ]
  },
  {
   "cell_type": "code",
   "execution_count": null,
   "id": "9bb62620",
   "metadata": {},
   "outputs": [],
   "source": []
  },
  {
   "cell_type": "code",
   "execution_count": null,
   "id": "d768a52b",
   "metadata": {},
   "outputs": [],
   "source": []
  },
  {
   "cell_type": "code",
   "execution_count": 108,
   "id": "4eaf6c87",
   "metadata": {},
   "outputs": [
    {
     "name": "stdout",
     "output_type": "stream",
     "text": [
      "{\"session_id\":\"005801d4-c7b8-4980-b957-85ccc7165929\",\"outputs\":[{\"inputs\":{\"input_value\":\"who is a specialist ?\"},\"outputs\":[{\"results\":{\"message\":{\"text_key\":\"text\",\"data\":{\"timestamp\":\"2025-06-14 09:03:48 UTC\",\"sender\":\"Machine\",\"sender_name\":\"AI\",\"session_id\":\"005801d4-c7b8-4980-b957-85ccc7165929\",\"text\":\"A specialist is an individual who possesses deep knowledge and expertise in a narrowly defined domain. Specialists focus on a specific area of study or practice, often undergoing extensive training and experience to develop their skills. They are typically recognized for their concentrated expertise, which is essential in highly technical or complex fields, such as medicine, engineering, or law. Specialists often enjoy higher compensation and status within their professions due to the value placed on their rare skill sets.\",\"files\":[],\"error\":false,\"edit\":false,\"properties\":{\"text_color\":\"\",\"background_color\":\"\",\"edited\":false,\"source\":{\"id\":\"OpenAIModel-kuAhW\",\"display_name\":\"OpenAI\",\"source\":\"gpt-4o-mini\"},\"icon\":\"OpenAI\",\"allow_markdown\":false,\"positive_feedback\":null,\"state\":\"complete\",\"targets\":[]},\"category\":\"message\",\"content_blocks\":[],\"id\":\"f0dc887f-8390-40dd-9055-47093f938ac1\",\"flow_id\":\"005801d4-c7b8-4980-b957-85ccc7165929\",\"duration\":null},\"default_value\":\"\",\"text\":\"A specialist is an individual who possesses deep knowledge and expertise in a narrowly defined domain. Specialists focus on a specific area of study or practice, often undergoing extensive training and experience to develop their skills. They are typically recognized for their concentrated expertise, which is essential in highly technical or complex fields, such as medicine, engineering, or law. Specialists often enjoy higher compensation and status within their professions due to the value placed on their rare skill sets.\",\"sender\":\"Machine\",\"sender_name\":\"AI\",\"files\":[],\"session_id\":\"005801d4-c7b8-4980-b957-85ccc7165929\",\"timestamp\":\"2025-06-14T09:03:48+00:00\",\"flow_id\":\"005801d4-c7b8-4980-b957-85ccc7165929\",\"error\":false,\"edit\":false,\"properties\":{\"text_color\":\"\",\"background_color\":\"\",\"edited\":false,\"source\":{\"id\":\"OpenAIModel-kuAhW\",\"display_name\":\"OpenAI\",\"source\":\"gpt-4o-mini\"},\"icon\":\"OpenAI\",\"allow_markdown\":false,\"positive_feedback\":null,\"state\":\"complete\",\"targets\":[]},\"category\":\"message\",\"content_blocks\":[],\"duration\":null}},\"artifacts\":{\"message\":\"A specialist is an individual who possesses deep knowledge and expertise in a narrowly defined domain. Specialists focus on a specific area of study or practice, often undergoing extensive training and experience to develop their skills. They are typically recognized for their concentrated expertise, which is essential in highly technical or complex fields, such as medicine, engineering, or law. Specialists often enjoy higher compensation and status within their professions due to the value placed on their rare skill sets.\",\"sender\":\"Machine\",\"sender_name\":\"AI\",\"files\":[],\"type\":\"object\"},\"outputs\":{\"message\":{\"message\":\"A specialist is an individual who possesses deep knowledge and expertise in a narrowly defined domain. Specialists focus on a specific area of study or practice, often undergoing extensive training and experience to develop their skills. They are typically recognized for their concentrated expertise, which is essential in highly technical or complex fields, such as medicine, engineering, or law. Specialists often enjoy higher compensation and status within their professions due to the value placed on their rare skill sets.\",\"type\":\"text\"}},\"logs\":{\"message\":[]},\"messages\":[{\"message\":\"A specialist is an individual who possesses deep knowledge and expertise in a narrowly defined domain. Specialists focus on a specific area of study or practice, often undergoing extensive training and experience to develop their skills. They are typically recognized for their concentrated expertise, which is essential in highly technical or complex fields, such as medicine, engineering, or law. Specialists often enjoy higher compensation and status within their professions due to the value placed on their rare skill sets.\",\"sender\":\"Machine\",\"sender_name\":\"AI\",\"session_id\":\"005801d4-c7b8-4980-b957-85ccc7165929\",\"stream_url\":null,\"component_id\":\"ChatOutput-RJ7Oq\",\"files\":[],\"type\":\"text\"}],\"timedelta\":null,\"duration\":null,\"component_display_name\":\"Chat Output\",\"component_id\":\"ChatOutput-RJ7Oq\",\"used_frozen_result\":false}]}]}\n"
     ]
    }
   ],
   "source": [
    "import requests\n",
    "url = \"http://localhost:7868/api/v1/run/005801d4-c7b8-4980-b957-85ccc7165929\"  # The complete API endpoint URL for this flow\n",
    "\n",
    "# Request payload configuration\n",
    "payload = {\n",
    "    \"input_value\": \"who is a specialist ?\",  # The input value to be processed by the flow\n",
    "    \"output_type\": \"chat\",  # Specifies the expected output format\n",
    "    \"input_type\": \"chat\"  # Specifies the input format\n",
    "}\n",
    "\n",
    "# Request headers\n",
    "headers = {\n",
    "    \"Content-Type\": \"application/json\"\n",
    "}\n",
    "\n",
    "try:\n",
    "    # Send API request\n",
    "    response = requests.request(\"POST\", url, json=payload, headers=headers)\n",
    "    response.raise_for_status()  # Raise exception for bad status codes\n",
    "\n",
    "    # Print response\n",
    "    print(response.text)\n",
    "\n",
    "except requests.exceptions.RequestException as e:\n",
    "    print(f\"Error making API request: {e}\")\n",
    "except ValueError as e:\n",
    "    print(f\"Error parsing response: {e}\")\n",
    "    "
   ]
  },
  {
   "cell_type": "code",
   "execution_count": null,
   "id": "658e0a69",
   "metadata": {},
   "outputs": [
    {
     "data": {
      "text/plain": [
       "{'session_id': '005801d4-c7b8-4980-b957-85ccc7165929',\n",
       " 'outputs': [{'inputs': {'input_value': 'who is a specialist ?'},\n",
       "   'outputs': [{'results': {'message': {'text_key': 'text',\n",
       "       'data': {'timestamp': '2025-06-14 09:03:48 UTC',\n",
       "        'sender': 'Machine',\n",
       "        'sender_name': 'AI',\n",
       "        'session_id': '005801d4-c7b8-4980-b957-85ccc7165929',\n",
       "        'text': 'A specialist is an individual who possesses deep knowledge and expertise in a narrowly defined domain. Specialists focus on a specific area of study or practice, often undergoing extensive training and experience to develop their skills. They are typically recognized for their concentrated expertise, which is essential in highly technical or complex fields, such as medicine, engineering, or law. Specialists often enjoy higher compensation and status within their professions due to the value placed on their rare skill sets.',\n",
       "        'files': [],\n",
       "        'error': False,\n",
       "        'edit': False,\n",
       "        'properties': {'text_color': '',\n",
       "         'background_color': '',\n",
       "         'edited': False,\n",
       "         'source': {'id': 'OpenAIModel-kuAhW',\n",
       "          'display_name': 'OpenAI',\n",
       "          'source': 'gpt-4o-mini'},\n",
       "         'icon': 'OpenAI',\n",
       "         'allow_markdown': False,\n",
       "         'positive_feedback': None,\n",
       "         'state': 'complete',\n",
       "         'targets': []},\n",
       "        'category': 'message',\n",
       "        'content_blocks': [],\n",
       "        'id': 'f0dc887f-8390-40dd-9055-47093f938ac1',\n",
       "        'flow_id': '005801d4-c7b8-4980-b957-85ccc7165929',\n",
       "        'duration': None},\n",
       "       'default_value': '',\n",
       "       'text': 'A specialist is an individual who possesses deep knowledge and expertise in a narrowly defined domain. Specialists focus on a specific area of study or practice, often undergoing extensive training and experience to develop their skills. They are typically recognized for their concentrated expertise, which is essential in highly technical or complex fields, such as medicine, engineering, or law. Specialists often enjoy higher compensation and status within their professions due to the value placed on their rare skill sets.',\n",
       "       'sender': 'Machine',\n",
       "       'sender_name': 'AI',\n",
       "       'files': [],\n",
       "       'session_id': '005801d4-c7b8-4980-b957-85ccc7165929',\n",
       "       'timestamp': '2025-06-14T09:03:48+00:00',\n",
       "       'flow_id': '005801d4-c7b8-4980-b957-85ccc7165929',\n",
       "       'error': False,\n",
       "       'edit': False,\n",
       "       'properties': {'text_color': '',\n",
       "        'background_color': '',\n",
       "        'edited': False,\n",
       "        'source': {'id': 'OpenAIModel-kuAhW',\n",
       "         'display_name': 'OpenAI',\n",
       "         'source': 'gpt-4o-mini'},\n",
       "        'icon': 'OpenAI',\n",
       "        'allow_markdown': False,\n",
       "        'positive_feedback': None,\n",
       "        'state': 'complete',\n",
       "        'targets': []},\n",
       "       'category': 'message',\n",
       "       'content_blocks': [],\n",
       "       'duration': None}},\n",
       "     'artifacts': {'message': 'A specialist is an individual who possesses deep knowledge and expertise in a narrowly defined domain. Specialists focus on a specific area of study or practice, often undergoing extensive training and experience to develop their skills. They are typically recognized for their concentrated expertise, which is essential in highly technical or complex fields, such as medicine, engineering, or law. Specialists often enjoy higher compensation and status within their professions due to the value placed on their rare skill sets.',\n",
       "      'sender': 'Machine',\n",
       "      'sender_name': 'AI',\n",
       "      'files': [],\n",
       "      'type': 'object'},\n",
       "     'outputs': {'message': {'message': 'A specialist is an individual who possesses deep knowledge and expertise in a narrowly defined domain. Specialists focus on a specific area of study or practice, often undergoing extensive training and experience to develop their skills. They are typically recognized for their concentrated expertise, which is essential in highly technical or complex fields, such as medicine, engineering, or law. Specialists often enjoy higher compensation and status within their professions due to the value placed on their rare skill sets.',\n",
       "       'type': 'text'}},\n",
       "     'logs': {'message': []},\n",
       "     'messages': [{'message': 'A specialist is an individual who possesses deep knowledge and expertise in a narrowly defined domain. Specialists focus on a specific area of study or practice, often undergoing extensive training and experience to develop their skills. They are typically recognized for their concentrated expertise, which is essential in highly technical or complex fields, such as medicine, engineering, or law. Specialists often enjoy higher compensation and status within their professions due to the value placed on their rare skill sets.',\n",
       "       'sender': 'Machine',\n",
       "       'sender_name': 'AI',\n",
       "       'session_id': '005801d4-c7b8-4980-b957-85ccc7165929',\n",
       "       'stream_url': None,\n",
       "       'component_id': 'ChatOutput-RJ7Oq',\n",
       "       'files': [],\n",
       "       'type': 'text'}],\n",
       "     'timedelta': None,\n",
       "     'duration': None,\n",
       "     'component_display_name': 'Chat Output',\n",
       "     'component_id': 'ChatOutput-RJ7Oq',\n",
       "     'used_frozen_result': False}]}]}"
      ]
     },
     "execution_count": 120,
     "metadata": {},
     "output_type": "execute_result"
    },
    {
     "ename": "",
     "evalue": "",
     "output_type": "error",
     "traceback": [
      "\u001b[1;31mThe Kernel crashed while executing code in the current cell or a previous cell. \n",
      "\u001b[1;31mPlease review the code in the cell(s) to identify a possible cause of the failure. \n",
      "\u001b[1;31mClick <a href='https://aka.ms/vscodeJupyterKernelCrash'>here</a> for more info. \n",
      "\u001b[1;31mView Jupyter <a href='command:jupyter.viewOutput'>log</a> for further details."
     ]
    }
   ],
   "source": [
    "import ast \n",
    "import json\n",
    "\n",
    "# output = ast.literal_eval(response.text)\n",
    "\n",
    "# print(response.text)\n",
    "\n",
    "json.loads(response.text)"
   ]
  }
 ],
 "metadata": {
  "kernelspec": {
   "display_name": "edyoda_ai_agents_env",
   "language": "python",
   "name": "python3"
  },
  "language_info": {
   "codemirror_mode": {
    "name": "ipython",
    "version": 3
   },
   "file_extension": ".py",
   "mimetype": "text/x-python",
   "name": "python",
   "nbconvert_exporter": "python",
   "pygments_lexer": "ipython3",
   "version": "3.12.6"
  }
 },
 "nbformat": 4,
 "nbformat_minor": 5
}
