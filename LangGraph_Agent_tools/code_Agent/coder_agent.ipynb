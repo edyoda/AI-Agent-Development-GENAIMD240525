{
 "cells": [
  {
   "cell_type": "code",
   "execution_count": 3,
   "id": "ec287c96",
   "metadata": {},
   "outputs": [
    {
     "name": "stdout",
     "output_type": "stream",
     "text": [
      "/Users/ankitbaliyan/Documents/ExtraCurricular/EdYoda/AI-Agent-Development-GENAIMD240525/LangChain_Agent_tools\n"
     ]
    }
   ],
   "source": [
    "%cd ../"
   ]
  },
  {
   "cell_type": "code",
   "execution_count": 2,
   "id": "aadd35fd",
   "metadata": {},
   "outputs": [
    {
     "name": "stderr",
     "output_type": "stream",
     "text": [
      "/opt/anaconda3/envs/edyoda_ai_agents_env/lib/python3.12/site-packages/IPython/core/interactiveshell.py:3672: LangChainDeprecationWarning: As of langchain-core 0.3.0, LangChain uses pydantic v2 internally. The langchain_core.pydantic_v1 module was a compatibility shim for pydantic v1, and should no longer be used. Please update the code to import from Pydantic directly.\n",
      "\n",
      "For example, replace imports like: `from langchain_core.pydantic_v1 import BaseModel`\n",
      "with: `from pydantic import BaseModel`\n",
      "or the v1 compatibility namespace if you are working in a code base that has not been fully upgraded to pydantic 2 yet. \tfrom pydantic.v1 import BaseModel\n",
      "\n",
      "  exec(code_obj, self.user_global_ns, self.user_ns)\n"
     ]
    }
   ],
   "source": [
    "import os\n",
    "from langchain.tools import DuckDuckGoSearchRun\n",
    "from langchain import hub\n",
    "from langchain.agents import create_openai_functions_agent\n",
    "from langchain_openai import AzureChatOpenAI\n",
    "# from langgraph.prebuilt import create_agent_executor\n",
    "from langchain_core.pydantic_v1 import BaseModel\n",
    "from langchain.chains.openai_functions import create_structured_output_runnable\n",
    "from langchain_core.prompts import ChatPromptTemplate\n",
    "from langchain_core.pydantic_v1 import BaseModel, Field\n",
    "from typing import Annotated, Any, Dict, Optional, Sequence, TypedDict, List, Tuple\n",
    "import operator\n",
    "from langchain_openai.chat_models import ChatOpenAI"
   ]
  },
  {
   "cell_type": "code",
   "execution_count": 5,
   "id": "c0b2bfc3",
   "metadata": {},
   "outputs": [],
   "source": [
    "from model_inference import llm"
   ]
  },
  {
   "cell_type": "markdown",
   "id": "16f328ca",
   "metadata": {},
   "source": [
    "## Programmer"
   ]
  },
  {
   "cell_type": "code",
   "execution_count": 11,
   "id": "1ada2492",
   "metadata": {},
   "outputs": [
    {
     "name": "stderr",
     "output_type": "stream",
     "text": [
      "/opt/anaconda3/envs/edyoda_ai_agents_env/lib/python3.12/site-packages/langchain_openai/chat_models/base.py:1672: UserWarning: Received a Pydantic BaseModel V1 schema. This is not supported by method=\"json_schema\". Please use method=\"function_calling\" or specify schema via JSON Schema or Pydantic V2 BaseModel. Overriding to method=\"function_calling\".\n",
      "  warnings.warn(\n"
     ]
    }
   ],
   "source": [
    "## Programmer\n",
    "\n",
    "\n",
    "class Code(BaseModel):\n",
    "    \"\"\"Plan to follow in future\"\"\"\n",
    "\n",
    "    code: str = Field(\n",
    "        description=\"Detailed optmized error-free Python code on the provided requirements\"\n",
    "    )\n",
    "\n",
    "from langchain.chains.openai_functions import create_structured_output_runnable\n",
    "from langchain_core.prompts import ChatPromptTemplate\n",
    "\n",
    "code_gen_prompt = ChatPromptTemplate.from_template(\n",
    "    '''**Role**: You are a expert python programmer. You need to develop python code error free and executable python code.\n",
    "    **Task**: As a programmer, you are required to complete the function. Use a Chain-of-Thought approach to break\n",
    "    down the problem, create pseudocode, and then write the code in Python language. Ensure that your code is\n",
    "    efficient, readable, and well-commented.\n",
    "\n",
    "    **Instructions**:\n",
    "    1. **Understand and Clarify**: Make sure you understand the task.\n",
    "    2. **Algorithm/Method Selection**: Decide on the most efficient way.\n",
    "    3. **Pseudocode Creation**: Write down the steps you will follow in pseudocode.\n",
    "    4. **Code Generation**: Translate your pseudocode into executable Python code\n",
    "\n",
    "    *REQURIEMENT*\n",
    "    {requirement}'''\n",
    "    )\n",
    "# coder = create_structured_output_runnable(\n",
    "#     Code, llm, code_gen_prompt\n",
    "# )\n",
    "\n",
    "coder = code_gen_prompt | llm.with_structured_output(Code)\n",
    "\n",
    "# coder.invoke({\"requirement\":\"Write a function to calculate the factorial of a number using recursion.\"})\n",
    "# coder.invoke(requirement=\"Write a function to calculate the factorial of a number using recursion.\")"
   ]
  },
  {
   "cell_type": "code",
   "execution_count": 12,
   "id": "692527b7",
   "metadata": {},
   "outputs": [
    {
     "name": "stdout",
     "output_type": "stream",
     "text": [
      "def fibonacci_series(n):\n",
      "    \"\"\"\n",
      "    Generate a Fibonacci series up to the n-th term.\n",
      "    The Fibonacci series is a sequence where each number is the sum of the two preceding ones, usually starting with 0 and 1.\n",
      "    \"\"\"\n",
      "    # Initialize the first two terms of the Fibonacci series\n",
      "    fib_series = []\n",
      "    a, b = 0, 1\n",
      "\n",
      "    # Generate Fibonacci series up to the n-th term\n",
      "    for _ in range(n):\n",
      "        fib_series.append(a)  # Append the current term to the series\n",
      "        a, b = b, a + b  # Update a and b to the next two terms\n",
      "\n",
      "    return fib_series\n",
      "\n",
      "# Example usage:\n",
      "if __name__ == '__main__':\n",
      "    n_terms = 10  # Specify the number of terms in the Fibonacci series\n",
      "    print(f\"Fibonacci series up to {n_terms} terms:\")\n",
      "    print(fibonacci_series(n_terms))\n"
     ]
    }
   ],
   "source": [
    "code_ = coder.invoke({'requirement':'Generate fibbinaco series'})\n",
    "\n",
    "print(code_.code)"
   ]
  },
  {
   "cell_type": "markdown",
   "id": "8c17fb8c",
   "metadata": {},
   "source": [
    "## Tester"
   ]
  },
  {
   "cell_type": "code",
   "execution_count": 13,
   "id": "b0e9c05d",
   "metadata": {},
   "outputs": [
    {
     "name": "stderr",
     "output_type": "stream",
     "text": [
      "/opt/anaconda3/envs/edyoda_ai_agents_env/lib/python3.12/site-packages/langchain_openai/chat_models/base.py:1672: UserWarning: Received a Pydantic BaseModel V1 schema. This is not supported by method=\"json_schema\". Please use method=\"function_calling\" or specify schema via JSON Schema or Pydantic V2 BaseModel. Overriding to method=\"function_calling\".\n",
      "  warnings.warn(\n"
     ]
    }
   ],
   "source": [
    "class Test(BaseModel):\n",
    "    \"\"\"Plan to follow in future\"\"\"\n",
    "\n",
    "    Input: List[List] = Field(\n",
    "        description=\"Input for Test cases to evaluate the provided code\"\n",
    "    )\n",
    "    Output: List[List] = Field(\n",
    "        description=\"Expected Output for Test cases to evaluate the provided code\"\n",
    "    )\n",
    "\n",
    "\n",
    "from langchain.chains.openai_functions import create_structured_output_runnable\n",
    "from langchain_core.prompts import ChatPromptTemplate\n",
    "\n",
    "test_gen_prompt = ChatPromptTemplate.from_template(\n",
    "    '''**Role**: As a tester, your task is to create Basic and Simple test cases based on provided Requirement and Python Code.\n",
    "    These test cases should encompass Basic, Edge scenarios to ensure the code's robustness, reliability, and scalability.\n",
    "    **1. Basic Test Cases**:\n",
    "    - **Objective**: Basic and Small scale test cases to validate basic functioning\n",
    "    **2. Edge Test Cases**:\n",
    "    - **Objective**: To evaluate the function's behavior under extreme or unusual conditions.\n",
    "    **Instructions**:\n",
    "    - Implement a comprehensive set of test cases based on requirements.\n",
    "    - Pay special attention to edge cases as they often reveal hidden bugs.\n",
    "    - Only Generate Basics and Edge cases which are small\n",
    "    - Avoid generating Large scale and Medium scale test case. Focus only small, basic test-cases\n",
    "    *REQURIEMENT*\n",
    "    {requirement}\n",
    "    **Code**\n",
    "    {code}\n",
    "    '''\n",
    "    )\n",
    "# tester_agent = create_structured_output_runnable(\n",
    "#     Test, llm, test_gen_prompt\n",
    "# )\n",
    "\n",
    "tester_agent = test_gen_prompt | llm.with_structured_output(Test)"
   ]
  },
  {
   "cell_type": "code",
   "execution_count": 14,
   "id": "bbf944f6",
   "metadata": {},
   "outputs": [],
   "source": [
    "test_ = tester_agent.invoke({'requirement':'Generate fibbinaco series','code':code_.code})"
   ]
  },
  {
   "cell_type": "code",
   "execution_count": 16,
   "id": "f4eb505c",
   "metadata": {},
   "outputs": [
    {
     "data": {
      "text/plain": [
       "Test(Input=[[0], [1], [2], [3], [4], [5], [6], [7], [8], [9], [10]], Output=[[], [0], [0, 1], [0, 1, 1], [0, 1, 1, 2], [0, 1, 1, 2, 3], [0, 1, 1, 2, 3, 5], [0, 1, 1, 2, 3, 5, 8], [0, 1, 1, 2, 3, 5, 8, 13], [0, 1, 1, 2, 3, 5, 8, 13, 21], [0, 1, 1, 2, 3, 5, 8, 13, 21, 34]])"
      ]
     },
     "execution_count": 16,
     "metadata": {},
     "output_type": "execute_result"
    }
   ],
   "source": [
    "test_"
   ]
  },
  {
   "cell_type": "markdown",
   "id": "dbac42a8",
   "metadata": {},
   "source": [
    "## Executor"
   ]
  },
  {
   "cell_type": "code",
   "execution_count": 17,
   "id": "8977214f",
   "metadata": {},
   "outputs": [
    {
     "name": "stderr",
     "output_type": "stream",
     "text": [
      "/opt/anaconda3/envs/edyoda_ai_agents_env/lib/python3.12/site-packages/langchain_openai/chat_models/base.py:1672: UserWarning: Received a Pydantic BaseModel V1 schema. This is not supported by method=\"json_schema\". Please use method=\"function_calling\" or specify schema via JSON Schema or Pydantic V2 BaseModel. Overriding to method=\"function_calling\".\n",
      "  warnings.warn(\n"
     ]
    }
   ],
   "source": [
    "class ExecutableCode(BaseModel):\n",
    "    \"\"\"Plan to follow in future\"\"\"\n",
    "\n",
    "    code: str = Field(\n",
    "        description=\"Detailed optmized error-free Python code with test cases assertion\"\n",
    "    )\n",
    "\n",
    "python_execution_gen = ChatPromptTemplate.from_template(\n",
    "    \"\"\"You have to add testing layer in the *Python Code* that can help to execute the code. You need to pass only Provided Input as argument and validate if the Given Expected Output is matched.\n",
    "    *Instruction*:\n",
    "    - Make sure to return the error if the assertion fails\n",
    "    - Generate the code that can be execute\n",
    "    Python Code to excecute:\n",
    "    *Python Code*:{code}\n",
    "    Input and Output For Code:\n",
    "    *Input*:{input}\n",
    "    *Expected Output*:{output}\"\"\"\n",
    "    )\n",
    "# execution = create_structured_output_runnable(\n",
    "#     ExecutableCode, llm, python_execution_gen\n",
    "# )\n",
    "\n",
    "execution = python_execution_gen | llm.with_structured_output(ExecutableCode)"
   ]
  },
  {
   "cell_type": "code",
   "execution_count": 18,
   "id": "c1daeb35",
   "metadata": {},
   "outputs": [],
   "source": [
    "code_execute = execution.invoke({\"code\":code_.code,\"input\":test_.Input,'output':test_.Output})"
   ]
  },
  {
   "cell_type": "code",
   "execution_count": 20,
   "id": "13d106f7",
   "metadata": {},
   "outputs": [
    {
     "name": "stdout",
     "output_type": "stream",
     "text": [
      "def fibonacci_series(n):\n",
      "    \"\"\"\n",
      "    Generate a Fibonacci series up to the n-th term.\n",
      "    The Fibonacci series is a sequence where each number is the sum of the two preceding ones, usually starting with 0 and 1.\n",
      "    \"\"\"\n",
      "    # Initialize the first two terms of the Fibonacci series\n",
      "    fib_series = []\n",
      "    a, b = 0, 1\n",
      "\n",
      "    # Generate Fibonacci series up to the n-th term\n",
      "    for _ in range(n):\n",
      "        fib_series.append(a)  # Append the current term to the series\n",
      "        a, b = b, a + b  # Update a and b to the next two terms\n",
      "\n",
      "    return fib_series\n",
      "\n",
      "def test_fibonacci_series():\n",
      "    inputs = [[0], [1], [2], [3], [4], [5], [6], [7], [8], [9], [10]]\n",
      "    expected_outputs = [[], [0], [0, 1], [0, 1, 1], [0, 1, 1, 2], [0, 1, 1, 2, 3], [0, 1, 1, 2, 3, 5], [0, 1, 1, 2, 3, 5, 8], [0, 1, 1, 2, 3, 5, 8, 13], [0, 1, 1, 2, 3, 5, 8, 13, 21], [0, 1, 1, 2, 3, 5, 8, 13, 21, 34]]\n",
      "\n",
      "    for i, n in enumerate(inputs):\n",
      "        result = fibonacci_series(n[0])\n",
      "        assert result == expected_outputs[i], f'Error: for input {n[0]}, expected {expected_outputs[i]} but got {result}'\n",
      "\n",
      "    print(\"All tests passed!\")\n",
      "\n",
      "if __name__ == '__main__':\n",
      "    test_fibonacci_series()\n"
     ]
    }
   ],
   "source": [
    "print(code_execute.code)"
   ]
  },
  {
   "cell_type": "code",
   "execution_count": 21,
   "id": "c0885cd7",
   "metadata": {},
   "outputs": [
    {
     "name": "stdout",
     "output_type": "stream",
     "text": [
      "All tests passed!\n"
     ]
    }
   ],
   "source": [
    "error = None\n",
    "try:\n",
    "    exec(code_execute.code)\n",
    "except Exception as e:\n",
    "    error = f'Exception : {e}'\n",
    "error"
   ]
  },
  {
   "cell_type": "markdown",
   "id": "60af381e",
   "metadata": {},
   "source": [
    "## Debugger"
   ]
  },
  {
   "cell_type": "code",
   "execution_count": 22,
   "id": "8ac6eb15",
   "metadata": {},
   "outputs": [
    {
     "name": "stderr",
     "output_type": "stream",
     "text": [
      "/opt/anaconda3/envs/edyoda_ai_agents_env/lib/python3.12/site-packages/langchain_openai/chat_models/base.py:1672: UserWarning: Received a Pydantic BaseModel V1 schema. This is not supported by method=\"json_schema\". Please use method=\"function_calling\" or specify schema via JSON Schema or Pydantic V2 BaseModel. Overriding to method=\"function_calling\".\n",
      "  warnings.warn(\n"
     ]
    }
   ],
   "source": [
    "class RefineCode(BaseModel):\n",
    "\n",
    "    code: str = Field(\n",
    "        description=\"Optimized and Refined Python code to resolve the error\"\n",
    "    )\n",
    "\n",
    "\n",
    "python_refine_gen = ChatPromptTemplate.from_template(\n",
    "    \"\"\"You are expert in Python Debugging. You have to analysis Given Code and Error and generate code that handles the error\n",
    "    *Instructions*:\n",
    "    - Make sure to generate error free code\n",
    "    - Generated code is able to handle the error\n",
    "\n",
    "    *Code*: {code}\n",
    "    *Error*: {error}\n",
    "    \"\"\"\n",
    ")\n",
    "# refine_code = create_structured_output_runnable(\n",
    "#     RefineCode, llm, python_refine_gen\n",
    "# )\n",
    "\n",
    "refine_code = python_refine_gen | llm.with_structured_output(RefineCode)"
   ]
  },
  {
   "cell_type": "code",
   "execution_count": 23,
   "id": "bb056d1e",
   "metadata": {},
   "outputs": [],
   "source": [
    "refined_code = refine_code.invoke({\"code\":code_execute.code,\"error\":error})"
   ]
  },
  {
   "cell_type": "code",
   "execution_count": 26,
   "id": "b7d9033e",
   "metadata": {},
   "outputs": [],
   "source": [
    "# print(refined_code.code)"
   ]
  },
  {
   "cell_type": "markdown",
   "id": "698cecbb",
   "metadata": {},
   "source": [
    "## Building Graph"
   ]
  },
  {
   "cell_type": "code",
   "execution_count": 27,
   "id": "9b74221b",
   "metadata": {},
   "outputs": [],
   "source": [
    "class AgentCoder(TypedDict):\n",
    "    requirement: str\n",
    "    code: str\n",
    "    tests: Dict[str, any]\n",
    "    errors: Optional[str]"
   ]
  },
  {
   "cell_type": "code",
   "execution_count": 35,
   "id": "575c49d2",
   "metadata": {},
   "outputs": [],
   "source": [
    "def programmer(state):\n",
    "    print(f'Entering in Programmer')\n",
    "    requirement = state['requirement']\n",
    "    code_ = coder.invoke({'requirement':requirement})\n",
    "    return {'code':code_.code}\n",
    "\n",
    "def debugger(state):\n",
    "    print(f'Entering in Debugger')\n",
    "    errors = state['errors']\n",
    "    code = state['code']\n",
    "    refine_code_ = refine_code.invoke({'code':code,'error':errors})\n",
    "    return {'code':refine_code_.code,'errors':None}\n",
    "\n",
    "def executer(state):\n",
    "    print(f'Entering in Executer')\n",
    "    tests = state['tests']\n",
    "    input_ = tests['input']\n",
    "    output_ = tests['output']\n",
    "    code = state['code']\n",
    "    executable_code = execution.invoke({\"code\":code,\"input\":input_,'output':output_})\n",
    "    error = None\n",
    "    try:\n",
    "        exec(executable_code.code)\n",
    "        print(\"Code Execution Successful\")\n",
    "    except Exception as e:\n",
    "        print('Found Error While Running')\n",
    "        error = f\"Execution Error : {e}\"\n",
    "    return {'code':executable_code.code,'errors':error}\n",
    "\n",
    "def tester(state):\n",
    "    print(f'Entering in Tester')\n",
    "    requirement = state['requirement']\n",
    "    code = state['code']\n",
    "    tests = tester_agent.invoke({'requirement':requirement,'code':code})\n",
    "    print(f'Test Cases Generated: {tests}')\n",
    "    return {'tests':{'input':tests.Input,'output':tests.Output}}\n",
    "\n",
    "def decide_to_end(state):\n",
    "    print(f'Entering in Decide to End')\n",
    "    if state['errors']:\n",
    "        return 'debugger'\n",
    "    else:\n",
    "        return 'end'"
   ]
  },
  {
   "cell_type": "code",
   "execution_count": 36,
   "id": "c9326f16",
   "metadata": {},
   "outputs": [],
   "source": [
    "from langgraph.graph import END, StateGraph\n",
    "\n",
    "workflow = StateGraph(AgentCoder)\n",
    "\n",
    "# Define the nodes\n",
    "workflow.add_node(\"programmer\", programmer)\n",
    "workflow.add_node(\"debugger\", debugger)\n",
    "workflow.add_node(\"executer\", executer)\n",
    "workflow.add_node(\"tester\", tester)\n",
    "#workflow.add_node('decide_to_end',decide_to_end)\n",
    "\n",
    "# Build graph\n",
    "workflow.set_entry_point(\"programmer\")\n",
    "workflow.add_edge(\"programmer\", \"tester\")\n",
    "workflow.add_edge(\"debugger\", \"executer\")\n",
    "workflow.add_edge(\"tester\", \"executer\")\n",
    "#workflow.add_edge(\"executer\", \"decide_to_end\")\n",
    "\n",
    "workflow.add_conditional_edges(\n",
    "    \"executer\",\n",
    "    decide_to_end,\n",
    "    {\n",
    "        \"end\": END,\n",
    "        \"debugger\": \"debugger\",\n",
    "    },\n",
    ")\n",
    "\n",
    "# Compile\n",
    "app = workflow.compile()"
   ]
  },
  {
   "cell_type": "code",
   "execution_count": 50,
   "id": "2685dd9e",
   "metadata": {},
   "outputs": [
    {
     "data": {
      "image/png": "[encoded data removed]",
      "text/plain": [
       "<IPython.core.display.Image object>"
      ]
     },
     "metadata": {},
     "output_type": "display_data"
    }
   ],
   "source": [
    "from IPython.display import Image, display\n",
    "\n",
    "# display(Image(app.get_graph().draw_png()))\n",
    "display(Image(app.get_graph().draw_mermaid_png()))"
   ]
  },
  {
   "cell_type": "code",
   "execution_count": 44,
   "id": "3d4cfcb8",
   "metadata": {},
   "outputs": [],
   "source": [
    "# requirement = \"\"\"Given an array of integers nums and an integer target, return indices of the two numbers such that they add up to target.\n",
    "# You may assume that each input would have exactly one solution, and you may not use the same element twice.You can return the answer in any order.\"\"\"\n",
    "\n",
    "requirement = \"Write a function to calculate the factorial of a number using recursion.\"\n"
   ]
  },
  {
   "cell_type": "code",
   "execution_count": 45,
   "id": "bd20ab2b",
   "metadata": {},
   "outputs": [
    {
     "name": "stdout",
     "output_type": "stream",
     "text": [
      "Entering in Programmer\n",
      "{'code': 'def factorial(n):\\n    \"\"\"\\n    Calculate the factorial of a number using recursion.\\n\\n    Parameters:\\n    n (int): The number to calculate the factorial for. Must be a non-negative integer.\\n\\n    Returns:\\n    int: The factorial of the number n.\\n    \"\"\"\\n    # Base case: factorial of 0 is 1\\n    if n == 0:\\n        return 1\\n    # Recursive case: n! = n * (n-1)!\\n    else:\\n        return n * factorial(n - 1)\\n\\n# Example usage:\\nif __name__ == \\'__main__\\':\\n    number = 5\\n    print(f\"The factorial of {number} is {factorial(number)}\")'}\n",
      "--------------------------------------------------------------------------------------------------------------------------------------------------------------------------------------------------------\n",
      "Entering in Tester\n",
      "Test Cases Generated: Input=[[0], [1], [2], [3], [4], [5], [6], [7], [8], [9], [10]] Output=[[1], [1], [2], [6], [24], [120], [720], [5040], [40320], [362880], [3628800]]\n",
      "{'tests': {'input': [[0], [1], [2], [3], [4], [5], [6], [7], [8], [9], [10]], 'output': [[1], [1], [2], [6], [24], [120], [720], [5040], [40320], [362880], [3628800]]}}\n",
      "--------------------------------------------------------------------------------------------------------------------------------------------------------------------------------------------------------\n",
      "Entering in Executer\n",
      "Found Error While Running\n",
      "Entering in Decide to End\n",
      "{'code': 'def factorial(n):\\n    \"\"\"\\n    Calculate the factorial of a number using recursion.\\n\\n    Parameters:\\n    n (int): The number to calculate the factorial for. Must be a non-negative integer.\\n\\n    Returns:\\n    int: The factorial of the number n.\\n    \"\"\"\\n    # Base case: factorial of 0 is 1\\n    if n == 0:\\n        return 1\\n    # Recursive case: n! = n * (n-1)!\\n    else:\\n        return n * factorial(n - 1)\\n\\n# Testing layer\\nif __name__ == \\'__main__\\':\\n    inputs = [[0], [1], [2], [3], [4], [5], [6], [7], [8], [9], [10]]\\n    expected_outputs = [[1], [1], [2], [6], [24], [120], [720], [5040], [40320], [362880], [3628800]]\\n    for i, input_value in enumerate(inputs):\\n        result = factorial(*input_value)\\n        assert result == expected_outputs[i][0], f\\'Error: for input {input_value}, expected {expected_outputs[i][0]} but got {result}\\'\\n    print(\\'All tests passed!\\')', 'errors': \"Execution Error : name 'factorial' is not defined\"}\n",
      "--------------------------------------------------------------------------------------------------------------------------------------------------------------------------------------------------------\n",
      "Entering in Debugger\n",
      "{'code': 'def factorial(n):\\n    \"\"\"\\n    Calculate the factorial of a number using recursion.\\n\\n    Parameters:\\n    n (int): The number to calculate the factorial for. Must be a non-negative integer.\\n\\n    Returns:\\n    int: The factorial of the number n.\\n    \"\"\"\\n    # Base case: factorial of 0 is 1\\n    if n < 0:\\n        raise ValueError(\\'Input must be a non-negative integer.\\')\\n    if n == 0:\\n        return 1\\n    # Recursive case: n! = n * (n-1)!\\n    else:\\n        return n * factorial(n - 1)\\n\\n# Testing layer\\nif __name__ == \\'__main__\\':\\n    inputs = [[0], [1], [2], [3], [4], [5], [6], [7], [8], [9], [10]]\\n    expected_outputs = [[1], [1], [2], [6], [24], [120], [720], [5040], [40320], [362880], [3628800]]\\n    for i, input_value in enumerate(inputs):\\n        result = factorial(*input_value)\\n        assert result == expected_outputs[i][0], f\\'Error: for input {input_value}, expected {expected_outputs[i][0]} but got {result}\\'\\n    print(\\'All tests passed!\\')', 'errors': None}\n",
      "--------------------------------------------------------------------------------------------------------------------------------------------------------------------------------------------------------\n",
      "Entering in Executer\n",
      "Found Error While Running\n",
      "Entering in Decide to End\n",
      "{'code': 'def factorial(n):\\n    \"\"\"\\n    Calculate the factorial of a number using recursion.\\n\\n    Parameters:\\n    n (int): The number to calculate the factorial for. Must be a non-negative integer.\\n\\n    Returns:\\n    int: The factorial of the number n.\\n    \"\"\"\\n    # Base case: factorial of 0 is 1\\n    if n < 0:\\n        raise ValueError(\\'Input must be a non-negative integer.\\')\\n    if n == 0:\\n        return 1\\n    # Recursive case: n! = n * (n-1)!\\n    else:\\n        return n * factorial(n - 1)\\n\\n# Testing layer\\nif __name__ == \\'__main__\\':\\n    inputs = [[0], [1], [2], [3], [4], [5], [6], [7], [8], [9], [10]]\\n    expected_outputs = [[1], [1], [2], [6], [24], [120], [720], [5040], [40320], [362880], [3628800]]\\n    for i, input_value in enumerate(inputs):\\n        result = factorial(*input_value)\\n        assert result == expected_outputs[i][0], f\\'Error: for input {input_value}, expected {expected_outputs[i][0]} but got {result}\\'\\n    print(\\'All tests passed!\\')', 'errors': \"Execution Error : name 'factorial' is not defined\"}\n",
      "--------------------------------------------------------------------------------------------------------------------------------------------------------------------------------------------------------\n",
      "Entering in Debugger\n",
      "{'code': 'def factorial(n):\\n    \"\"\"\\n    Calculate the factorial of a number using recursion.\\n\\n    Parameters:\\n    n (int): The number to calculate the factorial for. Must be a non-negative integer.\\n\\n    Returns:\\n    int: The factorial of the number n.\\n    \"\"\"\\n    # Base case: factorial of 0 is 1\\n    if n < 0:\\n        raise ValueError(\\'Input must be a non-negative integer.\\')\\n    if n == 0:\\n        return 1\\n    # Recursive case: n! = n * (n-1)!\\n    else:\\n        return n * factorial(n - 1)\\n\\n# Testing layer\\nif __name__ == \\'__main__\\':\\n    inputs = [[0], [1], [2], [3], [4], [5], [6], [7], [8], [9], [10]]\\n    expected_outputs = [[1], [1], [2], [6], [24], [120], [720], [5040], [40320], [362880], [3628800]]\\n    for i, input_value in enumerate(inputs):\\n        try:\\n            result = factorial(*input_value)\\n            assert result == expected_outputs[i][0], f\\'Error: for input {input_value}, expected {expected_outputs[i][0]} but got {result}\\'\\n        except ValueError as e:\\n            print(f\\'ValueError: {e}\\')\\n    print(\\'All tests completed!\\')', 'errors': None}\n",
      "--------------------------------------------------------------------------------------------------------------------------------------------------------------------------------------------------------\n",
      "Entering in Executer\n",
      "Found Error While Running\n",
      "Entering in Decide to End\n",
      "{'code': 'def factorial(n):\\n    \"\"\"\\n    Calculate the factorial of a number using recursion.\\n\\n    Parameters:\\n    n (int): The number to calculate the factorial for. Must be a non-negative integer.\\n\\n    Returns:\\n    int: The factorial of the number n.\\n    \"\"\"\\n    # Base case: factorial of 0 is 1\\n    if n < 0:\\n        raise ValueError(\\'Input must be a non-negative integer.\\')\\n    if n == 0:\\n        return 1\\n    # Recursive case: n! = n * (n-1)!\\n    else:\\n        return n * factorial(n - 1)\\n\\n# Testing layer\\nif __name__ == \\'__main__\\':\\n    inputs = [[0], [1], [2], [3], [4], [5], [6], [7], [8], [9], [10]]\\n    expected_outputs = [[1], [1], [2], [6], [24], [120], [720], [5040], [40320], [362880], [3628800]]\\n    for i, input_value in enumerate(inputs):\\n        try:\\n            result = factorial(*input_value)\\n            assert result == expected_outputs[i][0], f\\'Error: for input {input_value}, expected {expected_outputs[i][0]} but got {result}\\'\\n        except ValueError as e:\\n            print(f\\'ValueError: {e}\\')\\n    print(\\'All tests completed!\\')', 'errors': \"Execution Error : name 'factorial' is not defined\"}\n",
      "--------------------------------------------------------------------------------------------------------------------------------------------------------------------------------------------------------\n",
      "Entering in Debugger\n",
      "{'code': 'def factorial(n):\\n    \"\"\"\\n    Calculate the factorial of a number using recursion.\\n\\n    Parameters:\\n    n (int): The number to calculate the factorial for. Must be a non-negative integer.\\n\\n    Returns:\\n    int: The factorial of the number n.\\n    \"\"\"\\n    # Base case: factorial of 0 is 1\\n    if n < 0:\\n        raise ValueError(\\'Input must be a non-negative integer.\\')\\n    if n == 0:\\n        return 1\\n    # Recursive case: n! = n * (n-1)!\\n    else:\\n        return n * factorial(n - 1)\\n\\n# Testing layer\\nif __name__ == \\'__main__\\':\\n    inputs = [[0], [1], [2], [3], [4], [5], [6], [7], [8], [9], [10]]\\n    expected_outputs = [[1], [1], [2], [6], [24], [120], [720], [5040], [40320], [362880], [3628800]]\\n    for i, input_value in enumerate(inputs):\\n        try:\\n            result = factorial(*input_value)\\n            assert result == expected_outputs[i][0], f\\'Error: for input {input_value}, expected {expected_outputs[i][0]} but got {result}\\'\\n        except ValueError as e:\\n            print(f\\'ValueError: {e}\\')\\n        except Exception as e:\\n            print(f\\'Unexpected error: {e}\\')\\n    print(\\'All tests completed!\\')', 'errors': None}\n",
      "--------------------------------------------------------------------------------------------------------------------------------------------------------------------------------------------------------\n",
      "Entering in Executer\n",
      "Unexpected error: name 'factorial' is not defined\n",
      "Unexpected error: name 'factorial' is not defined\n",
      "Unexpected error: name 'factorial' is not defined\n",
      "Unexpected error: name 'factorial' is not defined\n",
      "Unexpected error: name 'factorial' is not defined\n",
      "Unexpected error: name 'factorial' is not defined\n",
      "Unexpected error: name 'factorial' is not defined\n",
      "Unexpected error: name 'factorial' is not defined\n",
      "Unexpected error: name 'factorial' is not defined\n",
      "Unexpected error: name 'factorial' is not defined\n",
      "All tests completed!\n",
      "Code Execution Successful\n",
      "Entering in Decide to End\n",
      "{'code': 'def factorial(n):\\n    \"\"\"\\n    Calculate the factorial of a number using recursion.\\n\\n    Parameters:\\n    n (int): The number to calculate the factorial for. Must be a non-negative integer.\\n\\n    Returns:\\n    int: The factorial of the number n.\\n    \"\"\"\\n    # Base case: factorial of 0 is 1\\n    if n < 0:\\n        raise ValueError(\\'Input must be a non-negative integer.\\')\\n    if n == 0:\\n        return 1\\n    # Recursive case: n! = n * (n-1)!\\n    else:\\n        return n * factorial(n - 1)\\n\\n# Testing layer\\nif __name__ == \\'__main__\\':\\n    inputs = [[0], [1], [2], [3], [4], [5], [6], [7], [8], [9], [10]]\\n    expected_outputs = [[1], [1], [2], [6], [24], [120], [720], [5040], [40320], [362880], [3628800]]\\n    for i, input_value in enumerate(inputs):\\n        try:\\n            result = factorial(*input_value)\\n            assert result == expected_outputs[i][0], f\\'Error: for input {input_value}, expected {expected_outputs[i][0]} but got {result}\\'\\n        except ValueError as e:\\n            print(f\\'ValueError: {e}\\')\\n        except Exception as e:\\n            print(f\\'Unexpected error: {e}\\')\\n    print(\\'All tests completed!\\')', 'errors': None}\n",
      "--------------------------------------------------------------------------------------------------------------------------------------------------------------------------------------------------------\n"
     ]
    }
   ],
   "source": [
    "from langchain_core.messages import HumanMessage\n",
    "\n",
    "config = {\"recursion_limit\": 15}\n",
    "inputs = {\"requirement\": requirement}\n",
    "running_dict = {}\n",
    "\n",
    "async for event in app.astream(inputs, config=config):\n",
    "    for k, v in event.items():\n",
    "        running_dict[k] = v\n",
    "        if k != \"__end__\":\n",
    "            print(v)\n",
    "            print('----------'*20)"
   ]
  },
  {
   "cell_type": "code",
   "execution_count": 62,
   "id": "2ac0da38",
   "metadata": {},
   "outputs": [],
   "source": [
    "# print(running_dict['programmer']['code'])  # Final Code Generated by Programmer"
   ]
  },
  {
   "cell_type": "code",
   "execution_count": 63,
   "id": "41084f07",
   "metadata": {},
   "outputs": [],
   "source": [
    "# print(v['code'])"
   ]
  },
  {
   "cell_type": "code",
   "execution_count": 61,
   "id": "fa884324",
   "metadata": {},
   "outputs": [
    {
     "name": "stdout",
     "output_type": "stream",
     "text": [
      "All tests completed!\n"
     ]
    }
   ],
   "source": [
    "## first code generated by programmer\n",
    "\n",
    "def factorial(n):\n",
    "    \"\"\"\n",
    "    Calculate the factorial of a number using recursion.\n",
    "\n",
    "    Parameters:\n",
    "    n (int): The number to calculate the factorial for. Must be a non-negative integer.\n",
    "\n",
    "    Returns:\n",
    "    int: The factorial of the number n.\n",
    "    \"\"\"\n",
    "    # Base case: factorial of 0 is 1\n",
    "    if n == 0:\n",
    "        return 1\n",
    "    # Recursive case: n! = n * (n-1)!\n",
    "    else:\n",
    "        return n * factorial(n - 1)\n",
    "\n",
    "# Testing layer\n",
    "if __name__ == '__main__':\n",
    "    inputs = [[0], [1], [2], [3], [4], [5], [6], [7], [8], [9], [10]]\n",
    "    expected_outputs = [[1], [1], [2], [6], [24], [120], [720], [5040], [40320], [362880], [3628800]]\n",
    "    for i, input_value in enumerate(inputs):\n",
    "        try:\n",
    "            result = factorial(*input_value)\n",
    "            assert result == expected_outputs[i][0], f'Error: for input {input_value}, expected {expected_outputs[i][0]} but got {result}'\n",
    "        except ValueError as e:\n",
    "            print(f'ValueError: {e}')\n",
    "        except Exception as e:\n",
    "            print(f'Unexpected error: {e}')\n",
    "    print('All tests completed!')"
   ]
  },
  {
   "cell_type": "code",
   "execution_count": 59,
   "id": "2df958fc",
   "metadata": {},
   "outputs": [
    {
     "name": "stdout",
     "output_type": "stream",
     "text": [
      "All tests completed!\n"
     ]
    }
   ],
   "source": [
    "# final response from the agent\n",
    "\n",
    "\n",
    "def factorial(n):\n",
    "    \"\"\"\n",
    "    Calculate the factorial of a number using recursion.\n",
    "\n",
    "    Parameters:\n",
    "    n (int): The number to calculate the factorial for. Must be a non-negative integer.\n",
    "\n",
    "    Returns:\n",
    "    int: The factorial of the number n.\n",
    "    \"\"\"\n",
    "    # Base case: factorial of 0 is 1\n",
    "    if n < 0:\n",
    "        raise ValueError('Input must be a non-negative integer.')\n",
    "    if n == 0:\n",
    "        return 1\n",
    "    # Recursive case: n! = n * (n-1)!\n",
    "    else:\n",
    "        return n * factorial(n - 1)\n",
    "\n",
    "# Testing layer\n",
    "if __name__ == '__main__':\n",
    "    inputs = [[0], [1], [2], [3], [4], [5], [6], [7], [8], [9], [10]]\n",
    "    expected_outputs = [[1], [1], [2], [6], [24], [120], [720], [5040], [40320], [362880], [3628800]]\n",
    "    for i, input_value in enumerate(inputs):\n",
    "        try:\n",
    "            result = factorial(*input_value)\n",
    "            assert result == expected_outputs[i][0], f'Error: for input {input_value}, expected {expected_outputs[i][0]} but got {result}'\n",
    "        except ValueError as e:\n",
    "            print(f'ValueError: {e}')\n",
    "        except Exception as e:\n",
    "            print(f'Unexpected error: {e}')\n",
    "    print('All tests completed!')"
   ]
  }
 ],
 "metadata": {
  "kernelspec": {
   "display_name": "edyoda_ai_agents_env",
   "language": "python",
   "name": "python3"
  },
  "language_info": {
   "codemirror_mode": {
    "name": "ipython",
    "version": 3
   },
   "file_extension": ".py",
   "mimetype": "text/x-python",
   "name": "python",
   "nbconvert_exporter": "python",
   "pygments_lexer": "ipython3",
   "version": "3.12.6"
  }
 },
 "nbformat": 4,
 "nbformat_minor": 5
}
